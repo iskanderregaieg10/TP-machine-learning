{
  "cells": [
    {
      "cell_type": "markdown",
      "metadata": {
        "id": "u3NC56HkGIfN"
      },
      "source": [
        "# Regression Linéaire"
      ]
    },
    {
      "cell_type": "markdown",
      "metadata": {
        "id": "T2SVZDkDGIfP"
      },
      "source": [
        "### 4DS1"
      ]
    },
    {
      "cell_type": "markdown",
      "metadata": {
        "id": "hdeqKefIGIfQ"
      },
      "source": []
    },
    {
      "cell_type": "markdown",
      "metadata": {
        "id": "Cu5TwnCG4i13"
      },
      "source": [
        "Objectif: Il s’agit de prédire le prix de biens immobiliers en fonction d’informations concernant l’environnement en utilisant le dataset `houses_to_rent_v2`.\n",
        "Pour plus d'information : [houses_to_rent_v2](https://www.cs.toronto.edu/~delve/data/boston/bostonDetail.html)"
      ]
    },
    {
      "cell_type": "code",
      "execution_count": null,
      "metadata": {
        "id": "DmIGy_Pw4i13"
      },
      "outputs": [],
      "source": [
        "#Chargement des bibliothèques\n",
        "import numpy as np\n",
        "import pandas as pd\n",
        "import matplotlib.pyplot as plt\n",
        "import seaborn as sns"
      ]
    },
    {
      "cell_type": "code",
      "execution_count": null,
      "metadata": {
        "colab": {
          "base_uri": "https://localhost:8080/",
          "height": 195
        },
        "id": "9HFF65cb4i13",
        "outputId": "debe41b6-54de-457b-fc16-99b39800afdd"
      },
      "outputs": [
        {
          "data": {
            "text/html": [
              "<div>\n",
              "<style scoped>\n",
              "    .dataframe tbody tr th:only-of-type {\n",
              "        vertical-align: middle;\n",
              "    }\n",
              "\n",
              "    .dataframe tbody tr th {\n",
              "        vertical-align: top;\n",
              "    }\n",
              "\n",
              "    .dataframe thead th {\n",
              "        text-align: right;\n",
              "    }\n",
              "</style>\n",
              "<table border=\"1\" class=\"dataframe\">\n",
              "  <thead>\n",
              "    <tr style=\"text-align: right;\">\n",
              "      <th></th>\n",
              "      <th>city</th>\n",
              "      <th>area</th>\n",
              "      <th>rooms</th>\n",
              "      <th>bathroom</th>\n",
              "      <th>parking spaces</th>\n",
              "      <th>floor</th>\n",
              "      <th>animal</th>\n",
              "      <th>furniture</th>\n",
              "      <th>hoa (R$)</th>\n",
              "      <th>rent amount (R$)</th>\n",
              "      <th>property tax (R$)</th>\n",
              "      <th>fire insurance (R$)</th>\n",
              "      <th>total (R$)</th>\n",
              "    </tr>\n",
              "  </thead>\n",
              "  <tbody>\n",
              "    <tr>\n",
              "      <th>0</th>\n",
              "      <td>São Paulo</td>\n",
              "      <td>70</td>\n",
              "      <td>2</td>\n",
              "      <td>1</td>\n",
              "      <td>1</td>\n",
              "      <td>7</td>\n",
              "      <td>acept</td>\n",
              "      <td>furnished</td>\n",
              "      <td>2065</td>\n",
              "      <td>3300</td>\n",
              "      <td>211</td>\n",
              "      <td>42</td>\n",
              "      <td>5618</td>\n",
              "    </tr>\n",
              "    <tr>\n",
              "      <th>1</th>\n",
              "      <td>São Paulo</td>\n",
              "      <td>320</td>\n",
              "      <td>4</td>\n",
              "      <td>4</td>\n",
              "      <td>0</td>\n",
              "      <td>20</td>\n",
              "      <td>acept</td>\n",
              "      <td>not furnished</td>\n",
              "      <td>1200</td>\n",
              "      <td>4960</td>\n",
              "      <td>1750</td>\n",
              "      <td>63</td>\n",
              "      <td>7973</td>\n",
              "    </tr>\n",
              "    <tr>\n",
              "      <th>2</th>\n",
              "      <td>Porto Alegre</td>\n",
              "      <td>80</td>\n",
              "      <td>1</td>\n",
              "      <td>1</td>\n",
              "      <td>1</td>\n",
              "      <td>6</td>\n",
              "      <td>acept</td>\n",
              "      <td>not furnished</td>\n",
              "      <td>1000</td>\n",
              "      <td>2800</td>\n",
              "      <td>0</td>\n",
              "      <td>41</td>\n",
              "      <td>3841</td>\n",
              "    </tr>\n",
              "    <tr>\n",
              "      <th>3</th>\n",
              "      <td>Porto Alegre</td>\n",
              "      <td>51</td>\n",
              "      <td>2</td>\n",
              "      <td>1</td>\n",
              "      <td>0</td>\n",
              "      <td>2</td>\n",
              "      <td>acept</td>\n",
              "      <td>not furnished</td>\n",
              "      <td>270</td>\n",
              "      <td>1112</td>\n",
              "      <td>22</td>\n",
              "      <td>17</td>\n",
              "      <td>1421</td>\n",
              "    </tr>\n",
              "    <tr>\n",
              "      <th>4</th>\n",
              "      <td>São Paulo</td>\n",
              "      <td>25</td>\n",
              "      <td>1</td>\n",
              "      <td>1</td>\n",
              "      <td>0</td>\n",
              "      <td>1</td>\n",
              "      <td>not acept</td>\n",
              "      <td>not furnished</td>\n",
              "      <td>0</td>\n",
              "      <td>800</td>\n",
              "      <td>25</td>\n",
              "      <td>11</td>\n",
              "      <td>836</td>\n",
              "    </tr>\n",
              "  </tbody>\n",
              "</table>\n",
              "</div>"
            ],
            "text/plain": [
              "           city  area  rooms  bathroom  parking spaces floor     animal  \\\n",
              "0     São Paulo    70      2         1               1     7      acept   \n",
              "1     São Paulo   320      4         4               0    20      acept   \n",
              "2  Porto Alegre    80      1         1               1     6      acept   \n",
              "3  Porto Alegre    51      2         1               0     2      acept   \n",
              "4     São Paulo    25      1         1               0     1  not acept   \n",
              "\n",
              "       furniture  hoa (R$)  rent amount (R$)  property tax (R$)  \\\n",
              "0      furnished      2065              3300                211   \n",
              "1  not furnished      1200              4960               1750   \n",
              "2  not furnished      1000              2800                  0   \n",
              "3  not furnished       270              1112                 22   \n",
              "4  not furnished         0               800                 25   \n",
              "\n",
              "   fire insurance (R$)  total (R$)  \n",
              "0                   42        5618  \n",
              "1                   63        7973  \n",
              "2                   41        3841  \n",
              "3                   17        1421  \n",
              "4                   11         836  "
            ]
          },
          "execution_count": 70,
          "metadata": {},
          "output_type": "execute_result"
        }
      ],
      "source": [
        "#Chargement des données\n",
        "data = pd.read_csv('houses_to_rent_v2.csv')\n",
        "data.head()"
      ]
    },
    {
      "cell_type": "code",
      "execution_count": null,
      "metadata": {
        "colab": {
          "base_uri": "https://localhost:8080/"
        },
        "id": "-Ns9EKsU4i14",
        "outputId": "a794d947-4874-4bed-be66-ac613760a751"
      },
      "outputs": [
        {
          "data": {
            "text/plain": [
              "(10692, 13)"
            ]
          },
          "execution_count": 18,
          "metadata": {},
          "output_type": "execute_result"
        }
      ],
      "source": [
        "data.shape"
      ]
    },
    {
      "cell_type": "code",
      "execution_count": null,
      "metadata": {
        "colab": {
          "base_uri": "https://localhost:8080/"
        },
        "id": "C-9GWhW14i14",
        "outputId": "c1499263-f984-476f-a0aa-26419f457122"
      },
      "outputs": [
        {
          "name": "stdout",
          "output_type": "stream",
          "text": [
            "<class 'pandas.core.frame.DataFrame'>\n",
            "RangeIndex: 10692 entries, 0 to 10691\n",
            "Data columns (total 13 columns):\n",
            "city                   10692 non-null object\n",
            "area                   10692 non-null int64\n",
            "rooms                  10692 non-null int64\n",
            "bathroom               10692 non-null int64\n",
            "parking spaces         10692 non-null int64\n",
            "floor                  10692 non-null object\n",
            "animal                 10692 non-null object\n",
            "furniture              10692 non-null object\n",
            "hoa (R$)               10692 non-null int64\n",
            "rent amount (R$)       10692 non-null int64\n",
            "property tax (R$)      10692 non-null int64\n",
            "fire insurance (R$)    10692 non-null int64\n",
            "total (R$)             10692 non-null int64\n",
            "dtypes: int64(9), object(4)\n",
            "memory usage: 1.1+ MB\n"
          ]
        }
      ],
      "source": [
        "data.info()"
      ]
    },
    {
      "cell_type": "code",
      "execution_count": null,
      "metadata": {
        "colab": {
          "base_uri": "https://localhost:8080/",
          "height": 304
        },
        "id": "V5skoRMb4i14",
        "outputId": "6429477c-b544-4fe8-be81-56c2175f0480"
      },
      "outputs": [
        {
          "data": {
            "text/html": [
              "<div>\n",
              "<style scoped>\n",
              "    .dataframe tbody tr th:only-of-type {\n",
              "        vertical-align: middle;\n",
              "    }\n",
              "\n",
              "    .dataframe tbody tr th {\n",
              "        vertical-align: top;\n",
              "    }\n",
              "\n",
              "    .dataframe thead th {\n",
              "        text-align: right;\n",
              "    }\n",
              "</style>\n",
              "<table border=\"1\" class=\"dataframe\">\n",
              "  <thead>\n",
              "    <tr style=\"text-align: right;\">\n",
              "      <th></th>\n",
              "      <th>area</th>\n",
              "      <th>rooms</th>\n",
              "      <th>bathroom</th>\n",
              "      <th>parking spaces</th>\n",
              "      <th>hoa (R$)</th>\n",
              "      <th>rent amount (R$)</th>\n",
              "      <th>property tax (R$)</th>\n",
              "      <th>fire insurance (R$)</th>\n",
              "      <th>total (R$)</th>\n",
              "    </tr>\n",
              "  </thead>\n",
              "  <tbody>\n",
              "    <tr>\n",
              "      <th>count</th>\n",
              "      <td>10692.000000</td>\n",
              "      <td>10692.000000</td>\n",
              "      <td>10692.000000</td>\n",
              "      <td>10692.000000</td>\n",
              "      <td>1.069200e+04</td>\n",
              "      <td>10692.000000</td>\n",
              "      <td>10692.000000</td>\n",
              "      <td>10692.000000</td>\n",
              "      <td>1.069200e+04</td>\n",
              "    </tr>\n",
              "    <tr>\n",
              "      <th>mean</th>\n",
              "      <td>149.217920</td>\n",
              "      <td>2.506079</td>\n",
              "      <td>2.236813</td>\n",
              "      <td>1.609147</td>\n",
              "      <td>1.174022e+03</td>\n",
              "      <td>3896.247194</td>\n",
              "      <td>366.704358</td>\n",
              "      <td>53.300879</td>\n",
              "      <td>5.490487e+03</td>\n",
              "    </tr>\n",
              "    <tr>\n",
              "      <th>std</th>\n",
              "      <td>537.016942</td>\n",
              "      <td>1.171266</td>\n",
              "      <td>1.407198</td>\n",
              "      <td>1.589521</td>\n",
              "      <td>1.559231e+04</td>\n",
              "      <td>3408.545518</td>\n",
              "      <td>3107.832321</td>\n",
              "      <td>47.768031</td>\n",
              "      <td>1.648473e+04</td>\n",
              "    </tr>\n",
              "    <tr>\n",
              "      <th>min</th>\n",
              "      <td>11.000000</td>\n",
              "      <td>1.000000</td>\n",
              "      <td>1.000000</td>\n",
              "      <td>0.000000</td>\n",
              "      <td>0.000000e+00</td>\n",
              "      <td>450.000000</td>\n",
              "      <td>0.000000</td>\n",
              "      <td>3.000000</td>\n",
              "      <td>4.990000e+02</td>\n",
              "    </tr>\n",
              "    <tr>\n",
              "      <th>25%</th>\n",
              "      <td>56.000000</td>\n",
              "      <td>2.000000</td>\n",
              "      <td>1.000000</td>\n",
              "      <td>0.000000</td>\n",
              "      <td>1.700000e+02</td>\n",
              "      <td>1530.000000</td>\n",
              "      <td>38.000000</td>\n",
              "      <td>21.000000</td>\n",
              "      <td>2.061750e+03</td>\n",
              "    </tr>\n",
              "    <tr>\n",
              "      <th>50%</th>\n",
              "      <td>90.000000</td>\n",
              "      <td>2.000000</td>\n",
              "      <td>2.000000</td>\n",
              "      <td>1.000000</td>\n",
              "      <td>5.600000e+02</td>\n",
              "      <td>2661.000000</td>\n",
              "      <td>125.000000</td>\n",
              "      <td>36.000000</td>\n",
              "      <td>3.581500e+03</td>\n",
              "    </tr>\n",
              "    <tr>\n",
              "      <th>75%</th>\n",
              "      <td>182.000000</td>\n",
              "      <td>3.000000</td>\n",
              "      <td>3.000000</td>\n",
              "      <td>2.000000</td>\n",
              "      <td>1.237500e+03</td>\n",
              "      <td>5000.000000</td>\n",
              "      <td>375.000000</td>\n",
              "      <td>68.000000</td>\n",
              "      <td>6.768000e+03</td>\n",
              "    </tr>\n",
              "    <tr>\n",
              "      <th>max</th>\n",
              "      <td>46335.000000</td>\n",
              "      <td>13.000000</td>\n",
              "      <td>10.000000</td>\n",
              "      <td>12.000000</td>\n",
              "      <td>1.117000e+06</td>\n",
              "      <td>45000.000000</td>\n",
              "      <td>313700.000000</td>\n",
              "      <td>677.000000</td>\n",
              "      <td>1.120000e+06</td>\n",
              "    </tr>\n",
              "  </tbody>\n",
              "</table>\n",
              "</div>"
            ],
            "text/plain": [
              "               area         rooms      bathroom  parking spaces      hoa (R$)  \\\n",
              "count  10692.000000  10692.000000  10692.000000    10692.000000  1.069200e+04   \n",
              "mean     149.217920      2.506079      2.236813        1.609147  1.174022e+03   \n",
              "std      537.016942      1.171266      1.407198        1.589521  1.559231e+04   \n",
              "min       11.000000      1.000000      1.000000        0.000000  0.000000e+00   \n",
              "25%       56.000000      2.000000      1.000000        0.000000  1.700000e+02   \n",
              "50%       90.000000      2.000000      2.000000        1.000000  5.600000e+02   \n",
              "75%      182.000000      3.000000      3.000000        2.000000  1.237500e+03   \n",
              "max    46335.000000     13.000000     10.000000       12.000000  1.117000e+06   \n",
              "\n",
              "       rent amount (R$)  property tax (R$)  fire insurance (R$)    total (R$)  \n",
              "count      10692.000000       10692.000000         10692.000000  1.069200e+04  \n",
              "mean        3896.247194         366.704358            53.300879  5.490487e+03  \n",
              "std         3408.545518        3107.832321            47.768031  1.648473e+04  \n",
              "min          450.000000           0.000000             3.000000  4.990000e+02  \n",
              "25%         1530.000000          38.000000            21.000000  2.061750e+03  \n",
              "50%         2661.000000         125.000000            36.000000  3.581500e+03  \n",
              "75%         5000.000000         375.000000            68.000000  6.768000e+03  \n",
              "max        45000.000000      313700.000000           677.000000  1.120000e+06  "
            ]
          },
          "execution_count": 20,
          "metadata": {},
          "output_type": "execute_result"
        }
      ],
      "source": [
        "data.describe()"
      ]
    },
    {
      "cell_type": "code",
      "execution_count": null,
      "metadata": {
        "colab": {
          "base_uri": "https://localhost:8080/"
        },
        "id": "_-n-EsF04i14",
        "outputId": "2db8284a-f2d6-4095-8db2-23b9005ff65f"
      },
      "outputs": [
        {
          "data": {
            "text/plain": [
              "Index(['city', 'area', 'rooms', 'bathroom', 'parking spaces', 'floor',\n",
              "       'animal', 'furniture', 'hoa (R$)', 'rent amount (R$)',\n",
              "       'property tax (R$)', 'fire insurance (R$)', 'total (R$)'],\n",
              "      dtype='object')"
            ]
          },
          "execution_count": 21,
          "metadata": {},
          "output_type": "execute_result"
        }
      ],
      "source": [
        "# afficher les noms des variables explicatives (“feature”)\n",
        "data.columns"
      ]
    },
    {
      "cell_type": "code",
      "execution_count": null,
      "metadata": {
        "id": "N5Ssxh1HGIfV"
      },
      "outputs": [],
      "source": [
        "#Pair plot : Une matrice représentant les éventuelles dépendances entre les éléments deux à deux\n",
        "sns.pairplot(data, hue='total (R$)', height=2.5);"
      ]
    },
    {
      "cell_type": "code",
      "execution_count": null,
      "metadata": {
        "id": "j9EXhyo1GIfV",
        "outputId": "4e42b711-9b19-41da-ee51-46d8a6da5849"
      },
      "outputs": [
        {
          "data": {
            "text/plain": [
              "<seaborn.matrix.ClusterGrid at 0x242b8c4da0>"
            ]
          },
          "execution_count": 31,
          "metadata": {},
          "output_type": "execute_result"
        },
        {
          "data": {
            "image/png": "[encoded data removed]",
            "text/plain": [
              "<Figure size 720x720 with 4 Axes>"
            ]
          },
          "metadata": {
            "needs_background": "light"
          },
          "output_type": "display_data"
        }
      ],
      "source": [
        "sns.clustermap(data.corr())"
      ]
    },
    {
      "cell_type": "code",
      "execution_count": null,
      "metadata": {
        "id": "_usiBzYdGIfW",
        "outputId": "7963cc23-0d89-4365-ea74-f1d8ce5b8912"
      },
      "outputs": [
        {
          "data": {
            "text/plain": [
              "[<matplotlib.lines.Line2D at 0x242b774dd8>]"
            ]
          },
          "execution_count": 32,
          "metadata": {},
          "output_type": "execute_result"
        },
        {
          "data": {
            "image/png": "[encoded data removed]",
            "text/plain": [
              "<Figure size 432x288 with 1 Axes>"
            ]
          },
          "metadata": {
            "needs_background": "light"
          },
          "output_type": "display_data"
        }
      ],
      "source": [
        "plt.plot(data[['hoa (R$)']],data[['total (R$)']])"
      ]
    },
    {
      "cell_type": "markdown",
      "metadata": {
        "id": "VZlHUFrJ4i14"
      },
      "source": [
        "# Régression linéaire simple"
      ]
    },
    {
      "cell_type": "markdown",
      "metadata": {
        "id": "7wODpELF4i14"
      },
      "source": [
        "## $$f(X)=aX+b $$"
      ]
    },
    {
      "cell_type": "code",
      "execution_count": null,
      "metadata": {
        "colab": {
          "base_uri": "https://localhost:8080/"
        },
        "id": "PxdHhOBE4i14",
        "outputId": "e0ed8fb4-db96-479c-cdd5-cf7c38d8fdc9"
      },
      "outputs": [
        {
          "name": "stdout",
          "output_type": "stream",
          "text": [
            "(10692, 1)\n",
            "(10692, 1)\n"
          ]
        }
      ],
      "source": [
        "# Dans un premier temps, nous estimons le prix d'une maison\n",
        "#en utilisant une seule variable soit 'hoa (R$)'\n",
        "X = data[['hoa (R$)']]\n",
        "y = data[['total (R$)']]\n",
        "print(X.shape)\n",
        "print(X.shape)"
      ]
    },
    {
      "cell_type": "code",
      "execution_count": null,
      "metadata": {
        "id": "dWrkOz_z4i15"
      },
      "outputs": [],
      "source": [
        "# chargement du modèle LinearRegression\n",
        "from sklearn.linear_model import LinearRegression\n",
        "from sklearn.model_selection import train_test_split\n",
        "X_train, X_test, y_train, y_test=train_test_split(X, y, test_size=0.2, random_state=3)"
      ]
    },
    {
      "cell_type": "code",
      "execution_count": null,
      "metadata": {
        "colab": {
          "base_uri": "https://localhost:8080/"
        },
        "id": "KGkiIUc84i15",
        "outputId": "ea93b275-56a3-4a00-ce20-d95db63c38fa"
      },
      "outputs": [
        {
          "name": "stdout",
          "output_type": "stream",
          "text": [
            "b =  [4295.28100915]\n",
            "a =  [[1.0158321]]\n"
          ]
        }
      ],
      "source": [
        "#Créer une instance linreg1\n",
        "linreg1 = LinearRegression()\n",
        "#Entrainer linreg1 avec les sous-ensembles d'apprentissage puis caluler le test_score de linreg1\n",
        "# Entrainer le modèle\n",
        "linreg1.fit(X_train, y_train)\n",
        "#Aficcher l'intercept de linreg1\n",
        "print(\"b = \",linreg1.intercept_)\n",
        "#Afficher les coefficients de linreg1\n",
        "print(\"a = \",linreg1.coef_)"
      ]
    },
    {
      "cell_type": "markdown",
      "metadata": {
        "id": "0RZSaetw4i15"
      },
      "source": [
        "### Les metriques d'un algorithme de regression\n",
        "$$ R2 =1- \\frac{\\sum  (y_{vrai} - y_{pred} )^2}{\\sum  (y_{vrai} - \\overline{ y_{vrai}} )^2}  $$\n",
        "$$ MAE = \\frac{1}{m} \\sum \\lvert y_{vrai} - y_{pred} \\rvert $$\n",
        "$$ MSE = \\frac{1}{m} \\sum  (y_{vrai} - y_{pred} )^2 $$\n",
        "$$ RMSE = \\sqrt {\\frac{1}{m} \\sum  (y_{vrai} - y_{pred} )^2 }$$\n",
        "$$MedianAE =median{\\lvert y_{vrai} - y_{pred} \\rvert} $$"
      ]
    },
    {
      "cell_type": "code",
      "execution_count": null,
      "metadata": {
        "colab": {
          "base_uri": "https://localhost:8080/"
        },
        "id": "MdW8Jrc74i15",
        "outputId": "7b6e6884-4f2a-485d-c06d-942c6df1c9d6"
      },
      "outputs": [
        {
          "name": "stdout",
          "output_type": "stream",
          "text": [
            "test_score =  0.9747592749586496\n",
            "R2 =  0.9747592749586496\n",
            "MAE =  15274501.524705721\n",
            "RMSE =  3908.260677680766\n",
            "MAE =  2885.6742816512447\n",
            "MeadianAE =  2451.289109062496\n"
          ]
        }
      ],
      "source": [
        "#Evaluation de la prédiction\n",
        "from sklearn.metrics import mean_absolute_error, mean_squared_error, median_absolute_error, r2_score\n",
        "y_pred = linreg1.predict(X_test)\n",
        "print('test_score = ',linreg1.score(X_test,y_test))\n",
        "print('R2 = ',r2_score(y_test, y_pred))\n",
        "print('MAE = ',mean_squared_error(y_test, y_pred))\n",
        "print('RMSE = ', np.sqrt(mean_squared_error(y_test, y_pred)))\n",
        "print('MAE = ', mean_absolute_error(y_test, y_pred))\n",
        "print('MeadianAE = ', median_absolute_error(y_test, y_pred))"
      ]
    },
    {
      "cell_type": "code",
      "execution_count": null,
      "metadata": {
        "colab": {
          "base_uri": "https://localhost:8080/"
        },
        "id": "VOhvLbfm9lQE",
        "outputId": "88e621e7-e92b-457b-8317-4c4611e32b00"
      },
      "outputs": [
        {
          "name": "stdout",
          "output_type": "stream",
          "text": [
            "R2 Adjusted =  0.9747569138056991\n"
          ]
        }
      ],
      "source": [
        "#Adj r2 = 1-(1-R2)*(n-1)/(n-p-1)\n",
        "R2Adj = 1-(1-r2_score(y_test, y_pred))*(data.shape[0]-1)/(data.shape[0]-1-1)\n",
        "print('R2 Adjusted = ',R2Adj)\n",
        "\n"
      ]
    },
    {
      "cell_type": "code",
      "execution_count": null,
      "metadata": {
        "colab": {
          "base_uri": "https://localhost:8080/",
          "height": 298
        },
        "id": "OKMb8aHLU4eR",
        "outputId": "a788d1e0-7ba4-475c-9723-9f1941518f65"
      },
      "outputs": [
        {
          "data": {
            "text/plain": [
              "Text(0.5, 1.0, 'Actuals vs Regression Line')"
            ]
          },
          "execution_count": 39,
          "metadata": {},
          "output_type": "execute_result"
        },
        {
          "data": {
            "image/png": "[encoded data removed]",
            "text/plain": [
              "<Figure size 432x288 with 1 Axes>"
            ]
          },
          "metadata": {
            "needs_background": "light"
          },
          "output_type": "display_data"
        }
      ],
      "source": [
        "#Plot Our Actual and Predicted Values\n",
        "plt.plot(X_test, y_test, 'o', color='black');\n",
        "plt.plot(X_test,y_pred,color='blue')\n",
        "plt.title(\"Actuals vs Regression Line\")"
      ]
    },
    {
      "cell_type": "code",
      "execution_count": null,
      "metadata": {
        "colab": {
          "base_uri": "https://localhost:8080/"
        },
        "id": "mcR98gQSXTud",
        "outputId": "6c5ce2f3-5b45-4fbd-f20c-4cd3bd186563"
      },
      "outputs": [
        {
          "name": "stdout",
          "output_type": "stream",
          "text": [
            "                                 OLS Regression Results                                \n",
            "=======================================================================================\n",
            "Dep. Variable:             total (R$)   R-squared (uncentered):                   0.947\n",
            "Model:                            OLS   Adj. R-squared (uncentered):              0.947\n",
            "Method:                 Least Squares   F-statistic:                          3.823e+04\n",
            "Date:                Mon, 04 Jan 2021   Prob (F-statistic):                        0.00\n",
            "Time:                        22:03:31   Log-Likelihood:                         -21577.\n",
            "No. Observations:                2139   AIC:                                  4.316e+04\n",
            "Df Residuals:                    2138   BIC:                                  4.316e+04\n",
            "Df Model:                           1                                                  \n",
            "Covariance Type:            nonrobust                                                  \n",
            "==============================================================================\n",
            "                 coef    std err          t      P>|t|      [0.025      0.975]\n",
            "------------------------------------------------------------------------------\n",
            "hoa (R$)       1.0139      0.005    195.520      0.000       1.004       1.024\n",
            "==============================================================================\n",
            "Omnibus:                      762.625   Durbin-Watson:                   0.919\n",
            "Prob(Omnibus):                  0.000   Jarque-Bera (JB):             2518.960\n",
            "Skew:                           1.802   Prob(JB):                         0.00\n",
            "Kurtosis:                       6.908   Cond. No.                         1.00\n",
            "==============================================================================\n",
            "\n",
            "Warnings:\n",
            "[1] Standard Errors assume that the covariance matrix of the errors is correctly specified.\n"
          ]
        }
      ],
      "source": [
        "import statsmodels.api as sm\n",
        "est = sm.OLS(y_test, X_test)\n",
        "est2 = est.fit()\n",
        "print(est2.summary())"
      ]
    },
    {
      "cell_type": "markdown",
      "metadata": {
        "id": "-av1MAEk4i15"
      },
      "source": [
        "# Régression linéaire multiple"
      ]
    },
    {
      "cell_type": "markdown",
      "metadata": {
        "id": "AyWGm3Q94i15"
      },
      "source": [
        "## $$f(X_1,X_2,...)= a_0 + a_1*X_1 + a_2*X_2 + .... + a_{12}*X12$$"
      ]
    },
    {
      "cell_type": "markdown",
      "metadata": {
        "id": "k3vBeatyGIfZ"
      },
      "source": [
        "## $$f(X_1,X_2,...)= a_0 + a_1*X_1 + a_2*X_2 + .... + a_{12}*X12$$"
      ]
    },
    {
      "cell_type": "code",
      "execution_count": null,
      "metadata": {
        "id": "oqnF71phGIfZ",
        "outputId": "c037df80-9a79-45fe-e8f3-3a9918807d1b"
      },
      "outputs": [
        {
          "name": "stdout",
          "output_type": "stream",
          "text": [
            "city                   object\n",
            "area                    int64\n",
            "rooms                   int64\n",
            "bathroom                int64\n",
            "parking spaces          int64\n",
            "floor                  object\n",
            "animal                 object\n",
            "furniture              object\n",
            "hoa (R$)                int64\n",
            "rent amount (R$)        int64\n",
            "property tax (R$)       int64\n",
            "fire insurance (R$)     int64\n",
            "total (R$)              int64\n",
            "dtype: object\n",
            "['7' '20' '6' '2' '1' '-' '4' '3' '10' '11' '24' '9' '8' '17' '18' '5'\n",
            " '13' '15' '16' '14' '26' '12' '21' '19' '22' '27' '23' '35' '25' '46'\n",
            " '28' '29' '301' '51' '32']\n",
            "['7' '20' '6' '2' '1' '0' '4' '3' '10' '11' '24' '9' '8' '17' '18' '5'\n",
            " '13' '15' '16' '14' '26' '12' '21' '19' '22' '27' '23' '35' '25' '46'\n",
            " '28' '29' '301' '51' '32']\n",
            "0\n",
            "city                   object\n",
            "area                    int64\n",
            "rooms                   int64\n",
            "bathroom                int64\n",
            "parking spaces          int64\n",
            "floor                   int64\n",
            "animal                 object\n",
            "furniture              object\n",
            "hoa (R$)                int64\n",
            "rent amount (R$)        int64\n",
            "property tax (R$)       int64\n",
            "fire insurance (R$)     int64\n",
            "total (R$)              int64\n",
            "dtype: object\n"
          ]
        }
      ],
      "source": [
        "print(data.dtypes)\n",
        "print(data.floor.unique())\n",
        "data[\"floor\"].replace({\"-\": \"0\"}, inplace=True)\n",
        "print(data.floor.unique())\n",
        "print((data.floor=='-').sum())\n",
        "data['floor'] = pd.to_numeric(data['floor'], errors='coerce')\n",
        "print(data.dtypes)"
      ]
    },
    {
      "cell_type": "code",
      "execution_count": null,
      "metadata": {
        "id": "7-__q_E64i15"
      },
      "outputs": [],
      "source": [
        "data = data.drop(['city','animal','furniture'], axis=1)\n",
        "X = data.drop('total (R$)', axis=1)\n",
        "y = data[['total (R$)']]\n",
        "X_train, X_test, y_train, y_test=train_test_split(X, y, test_size=0.2, random_state=3)"
      ]
    },
    {
      "cell_type": "code",
      "execution_count": null,
      "metadata": {
        "colab": {
          "base_uri": "https://localhost:8080/"
        },
        "id": "1kMcRkkL4i15",
        "outputId": "ea692f0e-758c-4876-8986-dd99b93fb618"
      },
      "outputs": [
        {
          "name": "stdout",
          "output_type": "stream",
          "text": [
            "test_score =  0.9999998909224999\n",
            "R2 =  0.9999998909224999\n",
            "MAE =  66.00858092964444\n",
            "RMSE =  8.124566507183287\n",
            "MAE =  0.676505717206501\n",
            "MeadianAE =  0.12924668211053358\n",
            "Intercept =  [0.05414899]\n",
            "Coefficients :  [[ 1.46373864e-05 -2.61521652e-02  3.54584401e-02  5.32744251e-03\n",
            "  -1.10067340e-02  1.00009870e+00  9.99972698e-01  9.99929430e-01\n",
            "   1.00346063e+00]]\n"
          ]
        }
      ],
      "source": [
        "#Régression linéaire multiple (toutes les variables de houses)\n",
        "linreg2 = LinearRegression(fit_intercept= True, normalize=False)\n",
        "#pour imposer une ordonnée à l'origine (Par défaut ='True')\n",
        "# Normalisation des données normalize=True\n",
        "linreg2.fit(X_train, y_train)\n",
        "y_pred = linreg2.predict(X_test)\n",
        "\n",
        "print('test_score = ',linreg2.score(X_test,y_test))\n",
        "print('R2 = ',r2_score(y_test, y_pred))\n",
        "print('MAE = ',mean_squared_error(y_test, y_pred))\n",
        "print('RMSE = ', np.sqrt(mean_squared_error(y_test, y_pred)))\n",
        "print('MAE = ', mean_absolute_error(y_test, y_pred))\n",
        "print('MeadianAE = ', median_absolute_error(y_test, y_pred))\n",
        "\n",
        "print('Intercept = ', linreg2.intercept_)\n",
        "print('Coefficients : ',linreg2.coef_)"
      ]
    },
    {
      "cell_type": "code",
      "execution_count": null,
      "metadata": {
        "colab": {
          "base_uri": "https://localhost:8080/",
          "height": 313
        },
        "id": "e2ZYkIhwS6OR",
        "outputId": "52fd6ef1-09cb-4259-cdb6-f0c4be74ca36"
      },
      "outputs": [
        {
          "data": {
            "text/plain": [
              "Text(0, 0.5, 'Residual')"
            ]
          },
          "execution_count": 75,
          "metadata": {},
          "output_type": "execute_result"
        },
        {
          "data": {
            "image/png": "[encoded data removed]",
            "text/plain": [
              "<Figure size 432x288 with 1 Axes>"
            ]
          },
          "metadata": {
            "needs_background": "light"
          },
          "output_type": "display_data"
        }
      ],
      "source": [
        "residuals = y_test-y_pred\n",
        "plt.plot(X_test,residuals, 'o', color='darkblue')\n",
        "plt.title(\"Residual Plot\")\n",
        "plt.xlabel(\"Independent Variable\")\n",
        "plt.ylabel(\"Residual\")"
      ]
    },
    {
      "cell_type": "code",
      "execution_count": null,
      "metadata": {
        "colab": {
          "base_uri": "https://localhost:8080/"
        },
        "id": "e5LHdOocaEOs",
        "outputId": "caa12ca9-2e3c-433d-c3a0-e728879f91f6"
      },
      "outputs": [
        {
          "name": "stdout",
          "output_type": "stream",
          "text": [
            "                                 OLS Regression Results                                \n",
            "=======================================================================================\n",
            "Dep. Variable:             total (R$)   R-squared (uncentered):                   1.000\n",
            "Model:                            OLS   Adj. R-squared (uncentered):              1.000\n",
            "Method:                 Least Squares   F-statistic:                          2.291e+09\n",
            "Date:                Mon, 04 Jan 2021   Prob (F-statistic):                        0.00\n",
            "Time:                        22:20:18   Log-Likelihood:                         -7515.8\n",
            "No. Observations:                2139   AIC:                                  1.505e+04\n",
            "Df Residuals:                    2130   BIC:                                  1.510e+04\n",
            "Df Model:                           9                                                  \n",
            "Covariance Type:            nonrobust                                                  \n",
            "=======================================================================================\n",
            "                          coef    std err          t      P>|t|      [0.025      0.975]\n",
            "---------------------------------------------------------------------------------------\n",
            "area                    0.0011      0.002      0.449      0.653      -0.004       0.006\n",
            "rooms                  -0.0060      0.192     -0.031      0.975      -0.383       0.371\n",
            "bathroom                0.0482      0.242      0.200      0.842      -0.426       0.522\n",
            "parking spaces         -0.0743      0.165     -0.450      0.653      -0.398       0.249\n",
            "floor                   0.0100      0.036      0.277      0.782      -0.061       0.081\n",
            "hoa (R$)                1.0001    7.3e-06   1.37e+05      0.000       1.000       1.000\n",
            "rent amount (R$)        1.0000      0.000   2625.029      0.000       0.999       1.001\n",
            "property tax (R$)       1.0000      0.000   3209.072      0.000       0.999       1.001\n",
            "fire insurance (R$)     1.0017      0.028     35.986      0.000       0.947       1.056\n",
            "==============================================================================\n",
            "Omnibus:                     6290.035   Durbin-Watson:                   2.001\n",
            "Prob(Omnibus):                  0.000   Jarque-Bera (JB):        257788076.293\n",
            "Skew:                          39.985   Prob(JB):                         0.00\n",
            "Kurtosis:                    1701.834   Cond. No.                     3.87e+04\n",
            "==============================================================================\n",
            "\n",
            "Warnings:\n",
            "[1] Standard Errors assume that the covariance matrix of the errors is correctly specified.\n",
            "[2] The condition number is large, 3.87e+04. This might indicate that there are\n",
            "strong multicollinearity or other numerical problems.\n"
          ]
        }
      ],
      "source": [
        "import statsmodels.api as sm\n",
        "est1 = sm.OLS(y_test, X_test)\n",
        "est2 = est1.fit()\n",
        "print(est2.summary())"
      ]
    },
    {
      "cell_type": "markdown",
      "metadata": {
        "id": "9jjr-Dkr4i15"
      },
      "source": [
        "# Sélection de variables"
      ]
    },
    {
      "cell_type": "code",
      "execution_count": null,
      "metadata": {
        "id": "V-1oCJze4i15"
      },
      "outputs": [],
      "source": [
        "# Define the X (inputs) and y (target) features\n",
        "X = data.drop(\"total (R$)\", axis=1)\n",
        "y = data[\"total (R$)\"]"
      ]
    },
    {
      "cell_type": "code",
      "execution_count": null,
      "metadata": {
        "id": "nR4SwKuC4i15"
      },
      "outputs": [],
      "source": [
        "import pandas as pd\n",
        "from sklearn.preprocessing import MinMaxScaler, StandardScaler, RobustScaler\n",
        "from sklearn.model_selection import train_test_split"
      ]
    },
    {
      "cell_type": "code",
      "execution_count": null,
      "metadata": {
        "id": "dUpIf0Us4i15"
      },
      "outputs": [],
      "source": [
        "#Centrage-réduction des données des données\n",
        "#sc = StandardScaler()\n",
        "#X_sc = sc.fit_transform(X)\n",
        "#X = pd.DataFrame(X_sc, columns=X.columns)\n",
        "#X.head()"
      ]
    },
    {
      "cell_type": "code",
      "execution_count": null,
      "metadata": {
        "colab": {
          "base_uri": "https://localhost:8080/"
        },
        "id": "WY9SxeiI4i16",
        "outputId": "9100383c-ce91-4381-9001-230d3e554722"
      },
      "outputs": [
        {
          "name": "stdout",
          "output_type": "stream",
          "text": [
            "(8553, 9)\n",
            "(2139, 9)\n"
          ]
        }
      ],
      "source": [
        "X_train, X_test, y_train, y_test = train_test_split(X, y, test_size=0.2, random_state=3)\n",
        "print(X_train.shape)\n",
        "print(X_test.shape)"
      ]
    },
    {
      "cell_type": "markdown",
      "metadata": {
        "id": "wuB3dNJ-Ephw"
      },
      "source": [
        "**VarianceThreshold** removes features with a variance less than the specified threshold. Consider a feature that takes the same value for all the observations (rows) in the dataset. It would not add any informative power to a model. Using this feature also adds an unnecessary computation burden. Thus, we should just eliminate it from the dataset."
      ]
    },
    {
      "cell_type": "code",
      "execution_count": null,
      "metadata": {
        "colab": {
          "base_uri": "https://localhost:8080/"
        },
        "id": "v7tC0xJT4i16",
        "outputId": "0eea8ca1-41b4-44d1-dd30-2b8c3c04113e"
      },
      "outputs": [
        {
          "data": {
            "text/plain": [
              "area                   2.883872e+05\n",
              "rooms                  1.371865e+00\n",
              "bathroom               1.980207e+00\n",
              "parking spaces         2.526576e+00\n",
              "floor                  3.683337e+01\n",
              "hoa (R$)               2.431200e+08\n",
              "rent amount (R$)       1.161818e+07\n",
              "property tax (R$)      9.658622e+06\n",
              "fire insurance (R$)    2.281785e+03\n",
              "dtype: float64"
            ]
          },
          "execution_count": 81,
          "metadata": {},
          "output_type": "execute_result"
        }
      ],
      "source": [
        "# Variance de chaque variable\n",
        "X.var()"
      ]
    },
    {
      "cell_type": "code",
      "execution_count": null,
      "metadata": {
        "colab": {
          "base_uri": "https://localhost:8080/"
        },
        "id": "8Yn0LtBV4i16",
        "outputId": "66b78e40-db12-4a05-a5d0-901adc23678b"
      },
      "outputs": [
        {
          "name": "stdout",
          "output_type": "stream",
          "text": [
            "Sélection de variables : [ True  True  True  True  True  True  True  True  True]\n",
            "Variables sélectionnées : ['area', 'rooms', 'bathroom', 'parking spaces', 'floor', 'hoa (R$)', 'rent amount (R$)', 'property tax (R$)', 'fire insurance (R$)']\n",
            "Variables supprimées : []\n"
          ]
        }
      ],
      "source": [
        "# Perform feature selection using a variance threshold\n",
        "\n",
        "from sklearn.feature_selection import VarianceThreshold\n",
        "\n",
        "sel = VarianceThreshold(threshold=(0.02))\n",
        "sel.fit(X_train)\n",
        "\n",
        "print(\"Sélection de variables :\", sel.get_support())\n",
        "print(\"Variables sélectionnées :\", list(X.columns[sel.get_support()]))\n",
        "print(\"Variables supprimées :\", list(X.columns[~sel.get_support()]))"
      ]
    },
    {
      "cell_type": "code",
      "execution_count": null,
      "metadata": {
        "colab": {
          "base_uri": "https://localhost:8080/"
        },
        "id": "8GNw_3CG4i16",
        "outputId": "be9ca562-f600-4edc-c4d0-86a9accbb998"
      },
      "outputs": [
        {
          "name": "stdout",
          "output_type": "stream",
          "text": [
            "test_score =  0.9999998909224999\n",
            "R2 =  0.9999998909224999\n",
            "MAE =  66.00858092964444\n",
            "RMSE =  8.124566507183287\n",
            "MAE =  0.676505717206501\n",
            "Meadian =  0.12924668211053358\n"
          ]
        }
      ],
      "source": [
        "# Suppression de variables à faible variance\n",
        "X_train = sel.transform(X_train)\n",
        "X_test = sel.transform(X_test)\n",
        "model = LinearRegression()\n",
        "model.fit(X_train, y_train)\n",
        "y_pred = model.predict(X_test)\n",
        "\n",
        "print('test_score = ',model.score(X_test,y_test))\n",
        "print('R2 = ',r2_score(y_test, y_pred))\n",
        "print('MAE = ',mean_squared_error(y_test, y_pred))\n",
        "print('RMSE = ', np.sqrt(mean_squared_error(y_test, y_pred)))\n",
        "print('MAE = ', mean_absolute_error(y_test, y_pred))\n",
        "print('Meadian = ', median_absolute_error(y_test, y_pred))\n"
      ]
    },
    {
      "cell_type": "markdown",
      "metadata": {
        "id": "HpMwjxkf4i16"
      },
      "source": [
        "## Selection de variables avec `SelectKBest`"
      ]
    },
    {
      "cell_type": "markdown",
      "metadata": {
        "id": "6FavKKh7WS8l"
      },
      "source": [
        "It takes as a parameter a score function, which must be applicable to a pair (X, y). The score function must return an array of scores, one for each feature X[:,i] of X"
      ]
    },
    {
      "cell_type": "code",
      "execution_count": null,
      "metadata": {
        "colab": {
          "base_uri": "https://localhost:8080/"
        },
        "id": "MgN_BN0E4i16",
        "outputId": "de8c4d6f-c99d-4a29-9319-177e34c84759"
      },
      "outputs": [
        {
          "name": "stdout",
          "output_type": "stream",
          "text": [
            "(8553, 9)\n",
            "(2139, 9)\n"
          ]
        }
      ],
      "source": [
        "X_train, X_test, y_train, y_test = train_test_split(X, y, test_size=0.2, random_state=3)\n",
        "print(X_train.shape)\n",
        "print(X_test.shape)"
      ]
    },
    {
      "cell_type": "code",
      "execution_count": null,
      "metadata": {
        "colab": {
          "base_uri": "https://localhost:8080/"
        },
        "id": "EvdNgdYE4i16",
        "outputId": "afef608c-5b61-4010-cab6-eb8edc274fd1"
      },
      "outputs": [
        {
          "name": "stdout",
          "output_type": "stream",
          "text": [
            "Sélection de variables : [False False False False False  True  True False  True]\n",
            "Scores de variables : [2.76393145e+01 2.53437573e+02 5.42058013e+02 3.04730585e+02\n",
            " 1.70380528e+01 5.32398219e+04 9.79526695e+02 7.43619131e+02\n",
            " 9.01222012e+02]\n",
            "Variables sélectionnées: ['hoa (R$)', 'rent amount (R$)', 'fire insurance (R$)']\n",
            "Variables supprimées : ['area', 'rooms', 'bathroom', 'parking spaces', 'floor', 'property tax (R$)']\n"
          ]
        }
      ],
      "source": [
        "from sklearn.feature_selection import SelectKBest\n",
        "from sklearn.feature_selection import f_classif\n",
        "from sklearn.feature_selection import f_regression\n",
        "#Score function:\n",
        "#For regression: f_regression, mutual_info_regression\n",
        "#For classification: chi2, f_classif, mutual_info_classif\n",
        "\n",
        "kbest = SelectKBest(score_func=f_regression, k=3)\n",
        "kbest.fit(X_train, y_train)\n",
        "print(\"Sélection de variables :\", kbest.get_support())\n",
        "print(\"Scores de variables :\", kbest.scores_)\n",
        "print(\"Variables sélectionnées:\", list(X.columns[kbest.get_support()]))\n",
        "print(\"Variables supprimées :\", list(X.columns[~kbest.get_support()]))"
      ]
    },
    {
      "cell_type": "code",
      "execution_count": null,
      "metadata": {
        "colab": {
          "base_uri": "https://localhost:8080/"
        },
        "id": "Ion9das-4i16",
        "outputId": "52d9ca3f-a73a-4733-adaa-05306b3f1e0d"
      },
      "outputs": [
        {
          "name": "stdout",
          "output_type": "stream",
          "text": [
            "test_score =  0.9993986750870916\n",
            "R2 =  0.9993986750870916\n",
            "MAE =  363893.59988731396\n",
            "RMSE =  603.2359404804342\n",
            "MAE =  252.52822557392173\n",
            "Meadian =  131.88196371080494\n"
          ]
        }
      ],
      "source": [
        "X_train = kbest.transform(X_train)\n",
        "X_test = kbest.transform(X_test)\n",
        "model = LinearRegression()\n",
        "model.fit(X_train, y_train)\n",
        "y_pred = model.predict(X_test)\n",
        "\n",
        "print('test_score = ',model.score(X_test,y_test))\n",
        "print('R2 = ',r2_score(y_test, y_pred))\n",
        "print('MAE = ',mean_squared_error(y_test, y_pred))\n",
        "print('RMSE = ', np.sqrt(mean_squared_error(y_test, y_pred)))\n",
        "print('MAE = ', mean_absolute_error(y_test, y_pred))\n",
        "print('Meadian = ', median_absolute_error(y_test, y_pred))\n"
      ]
    },
    {
      "cell_type": "markdown",
      "metadata": {
        "id": "LFQmmVXo4i16"
      },
      "source": [
        "## Sélection de variables avec Recursive Feature Elimination (RFE)"
      ]
    },
    {
      "cell_type": "markdown",
      "metadata": {
        "id": "myAI67KkYiyQ"
      },
      "source": [
        "Recursive Feature Elimination (RFE) works by eliminating features recursively. The elimination is done based on outputs from an estimator that assigns some kind of weights to features. For instance, the weights can be the coefficients of a linear regression or feature importances of a decision tree.\n",
        "The process starts by training the estimator on the entire dataset. Then, the least important features are pruned. After that, the estimator is trained with the remaining features and the least important features are pruned again. This process is repeated until the desired number of features is reached."
      ]
    },
    {
      "cell_type": "code",
      "execution_count": null,
      "metadata": {
        "colab": {
          "base_uri": "https://localhost:8080/"
        },
        "id": "idOZN7ct4i16",
        "outputId": "3f74daf2-e74b-4511-d607-036d2de4046f"
      },
      "outputs": [
        {
          "name": "stdout",
          "output_type": "stream",
          "text": [
            "(8553, 9)\n",
            "(2139, 9)\n"
          ]
        }
      ],
      "source": [
        "X_train, X_test, y_train, y_test = train_test_split(X, y, test_size=0.2, random_state=3)\n",
        "print(X_train.shape)\n",
        "print(X_test.shape)"
      ]
    },
    {
      "cell_type": "code",
      "execution_count": null,
      "metadata": {
        "colab": {
          "base_uri": "https://localhost:8080/"
        },
        "id": "bqvY15XA4i16",
        "outputId": "58561971-de2b-4bb7-83c7-2500dcede7c9"
      },
      "outputs": [
        {
          "name": "stdout",
          "output_type": "stream",
          "text": [
            "Sélection de variables [False  True  True  True  True  True  True  True  True]\n",
            "Classement de variables [2 1 1 1 1 1 1 1 1]\n",
            "Variables sélectionnées : ['rooms', 'bathroom', 'parking spaces', 'floor', 'hoa (R$)', 'rent amount (R$)', 'property tax (R$)', 'fire insurance (R$)']\n"
          ]
        }
      ],
      "source": [
        "from sklearn.linear_model import LinearRegression\n",
        "from sklearn.feature_selection import RFE\n",
        "model = LinearRegression()\n",
        "rfe = RFE(model, n_features_to_select=8)\n",
        "rfe.fit(X_train, y_train)\n",
        "print(\"Sélection de variables\", rfe.support_)\n",
        "print(\"Classement de variables\", rfe.ranking_)\n",
        "print(\"Variables sélectionnées :\", list(X.columns[rfe.support_]))"
      ]
    },
    {
      "cell_type": "code",
      "execution_count": null,
      "metadata": {
        "colab": {
          "base_uri": "https://localhost:8080/"
        },
        "id": "aWDXPd5H4i16",
        "outputId": "5e397a50-4675-4bfd-ee2f-851e0e5139ba"
      },
      "outputs": [
        {
          "name": "stdout",
          "output_type": "stream",
          "text": [
            "(8553, 8)\n",
            "(2139, 8)\n"
          ]
        }
      ],
      "source": [
        "X_train = rfe.transform(X_train)\n",
        "X_test = rfe.transform(X_test)\n",
        "print(X_train.shape)\n",
        "print(X_test.shape)"
      ]
    },
    {
      "cell_type": "code",
      "execution_count": null,
      "metadata": {
        "colab": {
          "base_uri": "https://localhost:8080/"
        },
        "id": "KEbv2Bvs4i16",
        "outputId": "15d3ce46-4ea8-4c39-f911-1f95301402aa"
      },
      "outputs": [
        {
          "name": "stdout",
          "output_type": "stream",
          "text": [
            "test_score =  0.9999998909219585\n",
            "R2 =  0.9999998909219585\n",
            "MAE =  66.00890857976027\n",
            "RMSE =  8.124586671318134\n",
            "MAE =  0.676625346706062\n",
            "Meadian =  0.12941959359250177\n"
          ]
        }
      ],
      "source": [
        "model = LinearRegression()\n",
        "model.fit(X_train, y_train)\n",
        "y_pred = model.predict(X_test)\n",
        "\n",
        "print('test_score = ',model.score(X_test,y_test))\n",
        "print('R2 = ',r2_score(y_test, y_pred))\n",
        "print('MAE = ',mean_squared_error(y_test, y_pred))\n",
        "print('RMSE = ', np.sqrt(mean_squared_error(y_test, y_pred)))\n",
        "print('MAE = ', mean_absolute_error(y_test, y_pred))\n",
        "print('Meadian = ', median_absolute_error(y_test, y_pred))\n"
      ]
    },
    {
      "cell_type": "code",
      "execution_count": null,
      "metadata": {
        "id": "Hiw-TiaJaXhA"
      },
      "outputs": [],
      "source": []
    }
  ],
  "metadata": {
    "colab": {
      "provenance": []
    },
    "kernelspec": {
      "display_name": "Python 3",
      "language": "python",
      "name": "python3"
    },
    "language_info": {
      "codemirror_mode": {
        "name": "ipython",
        "version": 3
      },
      "file_extension": ".py",
      "mimetype": "text/x-python",
      "name": "python",
      "nbconvert_exporter": "python",
      "pygments_lexer": "ipython3",
      "version": "3.8.3"
    }
  },
  "nbformat": 4,
  "nbformat_minor": 0
}