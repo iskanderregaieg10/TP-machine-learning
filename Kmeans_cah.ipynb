{
  "cells": [
    {
      "cell_type": "markdown",
      "metadata": {
        "id": "Cef_hsOJFsxq"
      },
      "source": [
        "# Kmeans + CAH"
      ]
    },
    {
      "cell_type": "markdown",
      "metadata": {
        "id": "fekP3cdrFsxs"
      },
      "source": [
        "### 4DS1"
      ]
    },
    {
      "cell_type": "markdown",
      "metadata": {
        "id": "5btO2EgIFsxt"
      },
      "source": []
    },
    {
      "cell_type": "markdown",
      "metadata": {
        "id": "JtVH8LWnPf3K"
      },
      "source": [
        "Face aux problèmes d’économie et de financement après «la révolution», le ministère de\n",
        "Transport et le ministère de Commerce ont décidé de chercher de nouveaux canaux d’importation\n",
        "d’automobiles.  \n",
        "Le profil souhaité doit nécessairement satisfaire les contraintes logistiques et techniques : le plus semblable aux modèles européens  \n",
        " Etant donné que plusieurs marchés internationaux se présentent volontaires pour accomplir cette\n",
        "affaire.  \n",
        "Une étude préliminaire sur ces marchés, mets à votre disposition un fichier contenant toutes les\n",
        "caractéristiques des modèles de véhicules disponible dans toutes les offres, en précisant pour\n",
        "chaque cas l’origine : Européen, Japonais ou Américain.  \n",
        "Votre équipe est invité à préparer un rapport décisif sous forme de présentation de l’origine le\n",
        "plus adapté au marché tunisien, et qui pourra remplacer le profil européen."
      ]
    },
    {
      "cell_type": "code",
      "execution_count": null,
      "metadata": {
        "id": "N2Y8LnxZPf3L"
      },
      "outputs": [],
      "source": [
        "#importation des données /chargement du fichier\n",
        "import pandas\n",
        "Voiture = pandas.read_table(\"Voitures_Origine.txt\",sep=\"\\t\",header=0,index_col=0)"
      ]
    },
    {
      "cell_type": "code",
      "execution_count": null,
      "metadata": {
        "colab": {
          "base_uri": "https://localhost:8080/"
        },
        "id": "ieyUKHpUPf3L",
        "outputId": "0910f169-c98b-4792-e156-182c99013338"
      },
      "outputs": [
        {
          "name": "stdout",
          "output_type": "stream",
          "text": [
            "<class 'pandas.core.frame.DataFrame'>\n"
          ]
        }
      ],
      "source": [
        "# vérifions le type de Voiture\n",
        "print(type(Voiture))\n"
      ]
    },
    {
      "cell_type": "code",
      "execution_count": null,
      "metadata": {
        "colab": {
          "base_uri": "https://localhost:8080/"
        },
        "id": "nYAUjRrFPf3M",
        "outputId": "d1f10fde-089e-4119-fccd-79969c9d3506"
      },
      "outputs": [
        {
          "name": "stdout",
          "output_type": "stream",
          "text": [
            "(392, 6)\n"
          ]
        }
      ],
      "source": [
        "#dimensions : nombre de lignes, nombre de colonnes\n",
        "print(Voiture.shape)\n"
      ]
    },
    {
      "cell_type": "code",
      "execution_count": null,
      "metadata": {
        "colab": {
          "base_uri": "https://localhost:8080/"
        },
        "id": "0nomyqmbPf3M",
        "outputId": "5a0c47d3-03e2-45a9-db6e-f8881addbcba"
      },
      "outputs": [
        {
          "name": "stdout",
          "output_type": "stream",
          "text": [
            "Index(['mpg', 'displacement', 'horsepower', 'weight', 'acceleration',\n",
            "       'origin'],\n",
            "      dtype='object')\n"
          ]
        }
      ],
      "source": [
        "#Les noms des colonnes\n",
        "print(Voiture.columns)"
      ]
    },
    {
      "cell_type": "code",
      "execution_count": null,
      "metadata": {
        "colab": {
          "base_uri": "https://localhost:8080/"
        },
        "id": "U4gFb7F3Pf3N",
        "outputId": "421b75f2-7d8a-4e86-f2f2-8817f9e47961"
      },
      "outputs": [
        {
          "name": "stdout",
          "output_type": "stream",
          "text": [
            "mpg              int64\n",
            "displacement     int64\n",
            "horsepower       int64\n",
            "weight           int64\n",
            "acceleration     int64\n",
            "origin          object\n",
            "dtype: object\n"
          ]
        }
      ],
      "source": [
        "#Type de chaque colonne\n",
        "print(Voiture.dtypes)"
      ]
    },
    {
      "cell_type": "code",
      "execution_count": null,
      "metadata": {
        "colab": {
          "base_uri": "https://localhost:8080/"
        },
        "id": "Co0_U9N3Pf3N",
        "outputId": "3c4b8176-44de-4f17-8932-e9245e7eb197"
      },
      "outputs": [
        {
          "name": "stdout",
          "output_type": "stream",
          "text": [
            "              mpg  displacement  horsepower       weight  acceleration\n",
            "count  392.000000    392.000000  392.000000   392.000000    392.000000\n",
            "mean    23.492347    194.410714  104.469388  2977.584184     15.681122\n",
            "std      7.799924    104.645191   38.491160   849.402560      2.761232\n",
            "min      9.000000     68.000000   46.000000  1613.000000      8.000000\n",
            "25%     17.000000    105.000000   75.000000  2225.250000     14.000000\n",
            "50%     23.000000    151.000000   93.500000  2803.500000     16.000000\n",
            "75%     29.000000    275.750000  126.000000  3614.750000     17.000000\n",
            "max     47.000000    455.000000  230.000000  5140.000000     25.000000\n"
          ]
        }
      ],
      "source": [
        "#Description des données\n",
        "print(Voiture.describe())"
      ]
    },
    {
      "cell_type": "code",
      "execution_count": null,
      "metadata": {
        "id": "2FhtJfXkPf3N"
      },
      "outputs": [],
      "source": [
        "#statistique descriptive. Pour plus de détails, voir :\n",
        "#http://pandas.pydata.org/pandas-docs/stable/basics.html#summarizing-data-describe"
      ]
    },
    {
      "cell_type": "code",
      "execution_count": null,
      "metadata": {
        "colab": {
          "base_uri": "https://localhost:8080/",
          "height": 1000
        },
        "id": "UW8ZJ9RQPf3N",
        "outputId": "e1dcaf97-ec42-4655-8606-0aa8a33be25a"
      },
      "outputs": [
        {
          "data": {
            "text/plain": [
              "array([[<matplotlib.axes._subplots.AxesSubplot object at 0x000002BA63993F88>,\n",
              "        <matplotlib.axes._subplots.AxesSubplot object at 0x000002BA675C9348>,\n",
              "        <matplotlib.axes._subplots.AxesSubplot object at 0x000002BA6798B388>,\n",
              "        <matplotlib.axes._subplots.AxesSubplot object at 0x000002BA679C3488>,\n",
              "        <matplotlib.axes._subplots.AxesSubplot object at 0x000002BA679FA588>],\n",
              "       [<matplotlib.axes._subplots.AxesSubplot object at 0x000002BA67A38E48>,\n",
              "        <matplotlib.axes._subplots.AxesSubplot object at 0x000002BA67A6B788>,\n",
              "        <matplotlib.axes._subplots.AxesSubplot object at 0x000002BA67AA38C8>,\n",
              "        <matplotlib.axes._subplots.AxesSubplot object at 0x000002BA67AAE488>,\n",
              "        <matplotlib.axes._subplots.AxesSubplot object at 0x000002BA67AE6688>],\n",
              "       [<matplotlib.axes._subplots.AxesSubplot object at 0x000002BA67B4BBC8>,\n",
              "        <matplotlib.axes._subplots.AxesSubplot object at 0x000002BA67B83D08>,\n",
              "        <matplotlib.axes._subplots.AxesSubplot object at 0x000002BA67BBBE08>,\n",
              "        <matplotlib.axes._subplots.AxesSubplot object at 0x000002BA67BF3F08>,\n",
              "        <matplotlib.axes._subplots.AxesSubplot object at 0x000002BA67C2CF88>],\n",
              "       [<matplotlib.axes._subplots.AxesSubplot object at 0x000002BA67C690C8>,\n",
              "        <matplotlib.axes._subplots.AxesSubplot object at 0x000002BA67CA01C8>,\n",
              "        <matplotlib.axes._subplots.AxesSubplot object at 0x000002BA67CD8308>,\n",
              "        <matplotlib.axes._subplots.AxesSubplot object at 0x000002BA67D0F408>,\n",
              "        <matplotlib.axes._subplots.AxesSubplot object at 0x000002BA67D484C8>],\n",
              "       [<matplotlib.axes._subplots.AxesSubplot object at 0x000002BA67D81608>,\n",
              "        <matplotlib.axes._subplots.AxesSubplot object at 0x000002BA67DB9708>,\n",
              "        <matplotlib.axes._subplots.AxesSubplot object at 0x000002BA67DF0808>,\n",
              "        <matplotlib.axes._subplots.AxesSubplot object at 0x000002BA67E2A948>,\n",
              "        <matplotlib.axes._subplots.AxesSubplot object at 0x000002BA67E62A48>]],\n",
              "      dtype=object)"
            ]
          },
          "execution_count": 8,
          "metadata": {},
          "output_type": "execute_result"
        }
      ],
      "source": [
        "#graphique - croisement deux à deux des variables\n",
        "from pandas.plotting import scatter_matrix\n",
        "scatter_matrix(Voiture,figsize=(9,9))"
      ]
    },
    {
      "cell_type": "markdown",
      "metadata": {
        "id": "Z3FbOFmyUKC3"
      },
      "source": [
        "**Méthode des centres mobiles : Kmeans avec le package « scikit-learn»**"
      ]
    },
    {
      "cell_type": "code",
      "execution_count": null,
      "metadata": {
        "id": "0RupEh9XPf3N"
      },
      "outputs": [],
      "source": [
        "# valeurs de toutes les colonnes\n",
        "#colonnes => 0:5 (0 à 5 [non inclus])\n",
        "#lignes = : (toutes les colonnes)\n",
        "V_SansLabels=Voiture.iloc[:,0:5];\n",
        "#Labels\n",
        "V_Labels=Voiture.iloc[:,5];"
      ]
    },
    {
      "cell_type": "code",
      "execution_count": null,
      "metadata": {
        "colab": {
          "base_uri": "https://localhost:8080/",
          "height": 1000
        },
        "id": "84ChG8BEPf3N",
        "outputId": "0c45e070-3f12-46b1-8a88-0526a5a98994"
      },
      "outputs": [
        {
          "name": "stdout",
          "output_type": "stream",
          "text": [
            "[[  28.10169492  123.52118644   82.59322034 2381.38135593   16.34745763]\n",
            " [  16.51923077  301.65384615  137.56410256 3879.53205128   14.67307692]]\n",
            "    Numero\n",
            "0        1\n",
            "0      151\n",
            "0      152\n",
            "0      153\n",
            "0      154\n",
            "..     ...\n",
            "1      289\n",
            "1      290\n",
            "1      291\n",
            "1      284\n",
            "1      392\n",
            "\n",
            "[392 rows x 1 columns]\n",
            "[[ 770.25932902 2279.24594372]\n",
            " [ 734.56482681 2243.5973821 ]\n",
            " [ 628.53779875 2137.76809269]\n",
            " [ 623.28244139 2132.47830606]\n",
            " [ 610.91022812 2120.41798798]\n",
            " [ 588.05034234 2096.92219392]\n",
            " [ 588.0483824  2096.92084579]\n",
            " [ 582.23606958 2090.79645483]\n",
            " [ 582.78200568 2091.70410104]\n",
            " [ 557.15392242 2065.81819208]\n",
            " [ 558.76345171 2068.18890675]\n",
            " [ 548.49651364 2057.238277  ]\n",
            " [ 548.27099731 2056.81997396]\n",
            " [ 548.22045088 2057.85560099]\n",
            " [ 537.89048256 2047.05498158]\n",
            " [ 532.87708225 2041.85364067]\n",
            " [ 518.47221135 2028.0303556 ]\n",
            " [ 508.22683783 2017.56639268]\n",
            " [ 467.15898652 1975.99459738]\n",
            " [ 457.85452324 1967.25394517]\n",
            " [ 445.82885298 1955.23636715]\n",
            " [ 445.82885298 1955.23636715]\n",
            " [ 442.20424575 1951.24871134]\n",
            " [ 438.29941207 1947.87808815]\n",
            " [ 433.77226124 1942.54756274]\n",
            " [ 433.97073054 1943.67599657]\n",
            " [ 427.83564686 1937.23862294]\n",
            " [ 421.03774344 1930.73581235]\n",
            " [ 418.05980642 1927.49807813]\n",
            " [ 417.95876252 1927.44097855]\n",
            " [ 415.56145608 1925.01240959]\n",
            " [ 412.93624293 1922.43273568]\n",
            " [ 408.53368641 1918.15540269]\n",
            " [ 408.68744227 1918.30262382]\n",
            " [ 401.9801855  1910.84137265]\n",
            " [ 399.6153787  1908.61879047]\n",
            " [ 397.57820045 1906.90788307]\n",
            " [ 400.19661699 1909.68172476]\n",
            " [ 398.02472248 1907.5568769 ]\n",
            " [ 393.09349176 1902.68851154]\n",
            " [ 393.49391275 1903.1763551 ]\n",
            " [ 388.18735872 1897.70349948]\n",
            " [ 384.29876934 1894.04493425]\n",
            " [ 381.18619728 1890.84702771]\n",
            " [ 364.85189943 1874.50603275]\n",
            " [ 363.88476251 1873.58540351]\n",
            " [ 358.27387741 1867.86880343]\n",
            " [ 349.90374228 1859.23856627]\n",
            " [ 337.85822427 1847.31037545]\n",
            " [ 337.69652414 1847.18171198]\n",
            " [ 333.9577793  1843.52541522]\n",
            " [ 331.95766533 1841.40687092]\n",
            " [ 318.44592449 1828.15385235]\n",
            " [ 317.90189039 1827.46813299]\n",
            " [ 314.20793889 1823.8514602 ]\n",
            " [ 310.87130431 1820.52073282]\n",
            " [ 307.49949987 1816.8916843 ]\n",
            " [ 300.74403788 1809.41240148]\n",
            " [ 282.68306211 1791.97917947]\n",
            " [ 275.56421635 1785.24372254]\n",
            " [ 275.18189986 1784.36430041]\n",
            " [ 274.98117355 1784.39517733]\n",
            " [ 262.95522603 1772.63483308]\n",
            " [ 258.60756877 1766.99371892]\n",
            " [ 263.19592505 1771.38964575]\n",
            " [ 258.67847338 1768.39651986]\n",
            " [ 257.98860515 1767.22290329]\n",
            " [ 258.07775739 1767.71248537]\n",
            " [ 256.78742454 1766.39429787]\n",
            " [ 253.99997006 1763.62072065]\n",
            " [ 255.26364247 1763.78248344]\n",
            " [ 252.84030945 1762.18958937]\n",
            " [ 252.84030945 1762.18958937]\n",
            " [ 248.13725025 1757.80922659]\n",
            " [ 239.24817279 1748.70978304]\n",
            " [ 238.45374432 1748.07910918]\n",
            " [ 232.56903851 1742.08507407]\n",
            " [ 226.75414532 1736.0458372 ]\n",
            " [ 228.29113151 1737.96202347]\n",
            " [ 228.0563082  1737.79798261]\n",
            " [ 223.67476399 1732.66036595]\n",
            " [ 221.62025097 1729.92046139]\n",
            " [ 218.89389128 1728.57474495]\n",
            " [ 220.13180192 1729.35447647]\n",
            " [ 212.18452566 1721.92821112]\n",
            " [ 195.33491893 1704.99826909]\n",
            " [ 194.83307078 1704.40432715]\n",
            " [ 193.30081513 1702.98554811]\n",
            " [ 192.54403427 1702.20555499]\n",
            " [ 182.88470494 1692.44613826]\n",
            " [ 180.79842239 1690.4031897 ]\n",
            " [ 177.49700894 1687.08078786]\n",
            " [ 172.46007166 1682.09621822]\n",
            " [ 168.69821127 1677.86803297]\n",
            " [ 164.37893401 1673.91158902]\n",
            " [ 161.52213485 1670.0369588 ]\n",
            " [ 161.59546702 1670.86528947]\n",
            " [ 162.33537177 1671.34793065]\n",
            " [ 155.58967128 1664.0697394 ]\n",
            " [ 154.29061852 1662.8386781 ]\n",
            " [ 152.73251808 1662.45384595]\n",
            " [ 150.55834517 1655.62907175]\n",
            " [ 137.96588885 1647.44430516]\n",
            " [ 135.83911238 1645.26560716]\n",
            " [ 133.53480488 1640.53332718]\n",
            " [ 129.01022182 1638.32535908]\n",
            " [ 118.76415903 1624.33730713]\n",
            " [ 119.39576709 1628.04871648]\n",
            " [ 119.63610806 1628.68418108]\n",
            " [ 117.72933643 1627.3812045 ]\n",
            " [ 104.73429681 1613.18461758]\n",
            " [ 106.24133885 1614.333758  ]\n",
            " [  97.53140327 1605.32575419]\n",
            " [  93.54860087 1602.8243766 ]\n",
            " [  87.34745567 1594.24942798]\n",
            " [  82.51980787 1590.28809522]\n",
            " [  85.75330233 1593.87658617]\n",
            " [  82.78859157 1590.60973478]\n",
            " [  72.06442536 1580.66259075]\n",
            " [  76.16080254 1567.27953348]\n",
            " [  68.93556347 1561.7895374 ]\n",
            " [  36.04131404 1543.09087346]\n",
            " [  18.35391371 1519.77364463]\n",
            " [  19.26844384 1519.90490851]\n",
            " [  24.25031985 1518.08380234]\n",
            " [  20.35556924 1513.61538493]\n",
            " [  31.4326298  1515.11008575]\n",
            " [  12.71400053 1504.81002128]\n",
            " [  21.12497227 1501.76798633]\n",
            " [  15.38632606 1496.26253443]\n",
            " [  19.62038146 1497.52370219]\n",
            " [  28.85193139 1488.80357925]\n",
            " [  28.36329173 1486.37435156]\n",
            " [  33.71329838 1481.8522047 ]\n",
            " [  33.37577594 1481.16217196]\n",
            " [  68.46124758 1478.29873032]\n",
            " [  52.05979332 1463.3358125 ]\n",
            " [  54.39343535 1457.88236666]\n",
            " [  69.71827117 1440.96781763]\n",
            " [  84.32394183 1429.8298967 ]\n",
            " [  99.26877594 1415.48879214]\n",
            " [ 108.72150729 1402.95367731]\n",
            " [ 109.23866755 1400.55472807]\n",
            " [ 118.95937227 1392.18620555]\n",
            " [ 125.60893056 1386.10099538]\n",
            " [ 129.96453902 1381.79124092]\n",
            " [ 134.79586592 1375.45898452]\n",
            " [ 144.08672664 1365.854028  ]\n",
            " [ 161.67128204 1348.74592089]\n",
            " [ 160.87117716 1351.34197598]\n",
            " [ 164.36637985 1347.60715578]\n",
            " [ 177.05256821 1333.04328229]\n",
            " [ 179.37077416 1330.87062121]\n",
            " [ 184.67890608 1326.09782102]\n",
            " [ 191.59055932 1318.30199457]\n",
            " [ 193.99801688 1319.37367431]\n",
            " [ 201.197205   1311.86286422]\n",
            " [ 206.42225125 1303.53149329]\n",
            " [ 219.5094146  1297.59679058]\n",
            " [ 211.39045738 1299.030159  ]\n",
            " [ 221.72207763 1291.2214383 ]\n",
            " [ 220.45415768 1292.52880051]\n",
            " [ 224.01031312 1289.58028658]\n",
            " [ 234.36492271 1278.31393666]\n",
            " [ 241.02312298 1268.77990864]\n",
            " [ 243.68504272 1269.02682082]\n",
            " [ 275.64628534 1248.0471803 ]\n",
            " [ 255.10941829 1254.80569347]\n",
            " [ 253.82392812 1259.42417964]\n",
            " [ 258.19669951 1252.22857038]\n",
            " [ 258.94753093 1254.98743283]\n",
            " [ 277.28985333 1236.7261352 ]\n",
            " [ 280.01459111 1233.17088472]\n",
            " [ 284.709266   1225.52458999]\n",
            " [ 288.64655247 1224.34765264]\n",
            " [ 290.01861725 1219.86076135]\n",
            " [ 291.46294071 1222.19762981]\n",
            " [ 290.98761121 1223.7256931 ]\n",
            " [ 297.98154597 1211.93045102]\n",
            " [ 313.02523597 1200.90787031]\n",
            " [ 324.08118105 1186.78955867]\n",
            " [ 321.10465063 1190.1569365 ]\n",
            " [ 329.87397703 1181.53324233]\n",
            " [ 339.07935181 1171.82557342]\n",
            " [ 338.67213541 1175.24158789]\n",
            " [ 342.56466921 1180.86209063]\n",
            " [ 348.28305513 1162.03038274]\n",
            " [ 354.76757975 1155.43647881]\n",
            " [ 359.7240492  1150.54776593]\n",
            " [ 365.78943194 1144.32768646]\n",
            " [ 374.04281462 1137.16947642]\n",
            " [ 400.19516643 1111.03030038]\n",
            " [ 422.28837048 1093.4007383 ]\n",
            " [ 408.96661011 1102.71597461]\n",
            " [ 414.93889897 1099.7211104 ]\n",
            " [ 420.48070962 1089.86108037]\n",
            " [ 428.75417877 1082.49473625]\n",
            " [ 434.48478358 1076.63002009]\n",
            " [ 449.2180042  1063.88383555]\n",
            " [ 457.927694   1052.52883883]\n",
            " [ 467.37707716 1047.17836756]\n",
            " [ 474.44183267 1036.91490522]\n",
            " [ 484.00823993 1028.3681535 ]\n",
            " [ 487.59797108 1027.85910571]\n",
            " [ 488.93364776 1023.64275126]\n",
            " [ 508.95124143 1003.89127905]\n",
            " [ 521.61336423  988.8812483 ]\n",
            " [ 531.18466263  981.73092567]\n",
            " [ 528.06951909  981.96861804]\n",
            " [ 532.83173168  978.86251105]\n",
            " [ 543.89247758  968.77692923]\n",
            " [ 550.24154331  961.097347  ]\n",
            " [ 550.37197903  962.39500668]\n",
            " [ 552.50167732  963.95775796]\n",
            " [ 574.31593211  937.87889856]\n",
            " [ 567.21306646  942.73059216]\n",
            " [ 563.8694419   952.67068336]\n",
            " [ 569.33184304  942.92312554]\n",
            " [ 568.90455401  949.7646106 ]\n",
            " [ 575.67778185  941.57714536]\n",
            " [ 596.70867892  918.98484692]\n",
            " [ 588.66907631  921.67197995]\n",
            " [ 597.69861748  920.08764641]\n",
            " [ 604.74365073  905.92263928]\n",
            " [ 613.46542183  896.87621428]\n",
            " [ 622.2940215   890.70292475]\n",
            " [ 635.25662241  875.33530288]\n",
            " [ 648.65488725  867.3049741 ]\n",
            " [ 652.10474882  861.51587937]\n",
            " [ 666.94629295  843.95856482]\n",
            " [ 682.98431134  827.30914301]\n",
            " [ 692.89342496  817.59655285]\n",
            " [ 711.99049702  799.02956856]\n",
            " [ 791.76036546  812.94611116]\n",
            " [ 724.60907757  785.57586759]\n",
            " [ 746.95262372  763.0954809 ]\n",
            " [ 768.19007626  743.9857113 ]\n",
            " [ 760.91255542  752.52314567]\n",
            " [ 768.93366184  750.30709621]\n",
            " [ 777.52293119  732.88678956]\n",
            " [ 787.03914794  726.36489216]\n",
            " [ 778.95670234  739.11772259]\n",
            " [ 809.07253454  710.59748796]\n",
            " [ 808.93763878  711.2744756 ]\n",
            " [ 822.84146591  689.2437012 ]\n",
            " [ 844.69800644  674.54529426]\n",
            " [ 835.77188116  674.83237816]\n",
            " [ 836.7633325   673.84024406]\n",
            " [ 851.44473036  660.30995647]\n",
            " [ 848.8104548   671.6958791 ]\n",
            " [ 857.84282175  652.16616976]\n",
            " [ 870.90648375  638.87571132]\n",
            " [ 869.06981837  652.49783979]\n",
            " [ 888.566548    621.75166751]\n",
            " [ 890.32173391  620.31187991]\n",
            " [ 888.70665503  637.99990568]\n",
            " [ 905.74503094  604.92258047]\n",
            " [ 909.6694371   600.94092474]\n",
            " [ 913.30727562  596.80553046]\n",
            " [ 929.32651578  581.95868005]\n",
            " [ 956.24492114  554.22622906]\n",
            " [ 963.20751766  547.27871786]\n",
            " [ 980.09223539  530.08932015]\n",
            " [ 984.27353493  525.90363761]\n",
            " [ 993.45306546  516.96414859]\n",
            " [1004.66089315  505.57540983]\n",
            " [1004.82840345  506.65297652]\n",
            " [1038.32251123  480.98721413]\n",
            " [1038.0963314   471.8864299 ]\n",
            " [1030.68050667  489.59993627]\n",
            " [1039.57091134  470.7160205 ]\n",
            " [1047.59667328  463.97924374]\n",
            " [1049.40196935  461.16945287]\n",
            " [1061.16119722  454.61503314]\n",
            " [1053.68537341  457.59308444]\n",
            " [1058.3486866   455.29555929]\n",
            " [1069.19754959  446.71964782]\n",
            " [1074.57750154  444.02501391]\n",
            " [1062.78115405  448.3377649 ]\n",
            " [1072.2595033   441.09839027]\n",
            " [1084.02566267  430.55501766]\n",
            " [1085.29399752  424.94670272]\n",
            " [1088.40965542  424.83317408]\n",
            " [1138.55410167  375.65869691]\n",
            " [1145.99415506  364.27345343]\n",
            " [1150.73356561  360.48757246]\n",
            " [1150.18118766  374.19206319]\n",
            " [1158.86997196  353.241557  ]\n",
            " [1213.01432986  328.45999663]\n",
            " [1203.29860618  309.55966684]\n",
            " [1199.3668782   315.60744467]\n",
            " [1232.76589323  277.0069566 ]\n",
            " [1249.06803632  274.24854468]\n",
            " [1236.03679874  279.2546768 ]\n",
            " [1243.10703619  272.0613056 ]\n",
            " [1252.89067186  263.76190245]\n",
            " [1258.18593923  252.8811825 ]\n",
            " [1270.26102084  241.74593604]\n",
            " [1273.81349314  244.00196017]\n",
            " [1306.2206487   225.02483089]\n",
            " [1304.97314475  207.93528987]\n",
            " [1305.00211444  207.94999436]\n",
            " [1333.64821171  194.66314139]\n",
            " [1356.2568291   154.78569189]\n",
            " [1362.75970999  165.54907136]\n",
            " [1355.64988857  158.26023733]\n",
            " [1368.75674507  145.50463083]\n",
            " [1389.03831263  126.2652688 ]\n",
            " [1408.73835611  154.59822254]\n",
            " [1410.77990573  104.59338927]\n",
            " [1405.48180775  117.44543808]\n",
            " [1407.37566271  129.01448995]\n",
            " [1439.83502823  147.38235692]\n",
            " [1461.92330135   90.87132437]\n",
            " [1462.58959223   52.24456936]\n",
            " [1470.67174265   40.39224541]\n",
            " [1496.53384046  107.0569949 ]\n",
            " [1500.10580758   12.67625085]\n",
            " [1510.89385993    8.46759447]\n",
            " [1522.91425359   17.90846104]\n",
            " [1521.10233558   63.66051912]\n",
            " [1536.00782132   54.42020884]\n",
            " [1529.6927691    80.91041359]\n",
            " [1572.22677345   63.97972557]\n",
            " [1577.92649612   84.99559658]\n",
            " [1590.98290749   90.1868866 ]\n",
            " [1591.37648872   84.35453358]\n",
            " [1623.77646037  119.05092706]\n",
            " [1671.12828324  162.48915594]\n",
            " [1689.10652895  181.36843123]\n",
            " [1690.09869135  182.21189455]\n",
            " [1684.41931654  187.30311414]\n",
            " [1708.1254747   198.55034278]\n",
            " [1710.71049568  201.15460351]\n",
            " [1716.82086764  208.30511436]\n",
            " [1726.98953116  217.46118463]\n",
            " [1727.11465129  218.69357476]\n",
            " [1736.00719363  228.82328901]\n",
            " [1763.82672437  254.78758403]\n",
            " [1765.70699626  256.29764378]\n",
            " [1770.48245174  261.08765627]\n",
            " [1769.62141696  261.48090611]\n",
            " [1788.59859971  279.30765163]\n",
            " [1800.11197205  291.36772106]\n",
            " [1820.33643567  311.15151335]\n",
            " [1843.49971431  334.14472936]\n",
            " [1843.50228633  335.50091926]\n",
            " [1849.02788065  339.39253071]\n",
            " [1861.8867258   356.93830919]\n",
            " [1867.05300099  358.06652462]\n",
            " [1885.53985707  377.69076708]\n",
            " [1907.96641055  398.38997471]\n",
            " [1922.37309472  420.73171323]\n",
            " [1921.84507305  414.49231554]\n",
            " [1922.5534777   415.53984986]\n",
            " [1960.92620628  460.65500485]\n",
            " [1966.16264221  459.20648688]\n",
            " [1967.97625598  458.27639197]\n",
            " [1986.69403913  482.54155676]\n",
            " [2004.88753479  505.13700366]\n",
            " [1992.88539476  483.20921853]\n",
            " [1996.11735883  486.42482504]\n",
            " [2006.55970487  500.44965182]\n",
            " [2013.80221624  504.59260811]\n",
            " [2014.15675506  507.95581541]\n",
            " [2024.76788208  516.31845932]\n",
            " [2062.12038151  553.81237696]\n",
            " [2075.27689842  573.34417788]\n",
            " [2072.02199453  562.60085833]\n",
            " [2088.44242343  578.94463679]\n",
            " [2085.84822238  577.8389738 ]\n",
            " [2102.97354289  593.87682842]\n",
            " [2102.03034861  592.83128369]\n",
            " [2126.63782388  618.8092019 ]\n",
            " [2131.98497309  622.81772462]\n",
            " [2133.9616679   624.59630667]\n",
            " [2250.07537954  741.86026236]\n",
            " [2275.77497734  767.42176259]\n",
            " [2264.43743754  758.47728371]\n",
            " [2286.61254751  777.34943807]\n",
            " [2287.93995529  779.10664334]\n",
            " [2304.96651912  795.24409744]\n",
            " [2329.68289325  820.99464857]\n",
            " [2360.1996059   854.31581271]\n",
            " [2378.54320392  870.05015043]\n",
            " [2382.38300299  872.64556946]\n",
            " [2541.16800051 1031.59978209]\n",
            " [2594.87682377 1085.92705056]\n",
            " [2591.33062509 1081.70449311]\n",
            " [2588.55334607 1079.38727047]\n",
            " [2631.11061683 1121.86993403]\n",
            " [2774.02295092 1264.86062175]]\n"
          ]
        },
        {
          "data": {
            "text/html": [
              "<div>\n",
              "<style scoped>\n",
              "    .dataframe tbody tr th:only-of-type {\n",
              "        vertical-align: middle;\n",
              "    }\n",
              "\n",
              "    .dataframe tbody tr th {\n",
              "        vertical-align: top;\n",
              "    }\n",
              "\n",
              "    .dataframe thead th {\n",
              "        text-align: right;\n",
              "    }\n",
              "</style>\n",
              "<table border=\"1\" class=\"dataframe\">\n",
              "  <thead>\n",
              "    <tr style=\"text-align: right;\">\n",
              "      <th>col_0</th>\n",
              "      <th>0</th>\n",
              "      <th>1</th>\n",
              "    </tr>\n",
              "    <tr>\n",
              "      <th>origin</th>\n",
              "      <th></th>\n",
              "      <th></th>\n",
              "    </tr>\n",
              "  </thead>\n",
              "  <tbody>\n",
              "    <tr>\n",
              "      <td>american</td>\n",
              "      <td>99</td>\n",
              "      <td>146</td>\n",
              "    </tr>\n",
              "    <tr>\n",
              "      <td>european</td>\n",
              "      <td>58</td>\n",
              "      <td>10</td>\n",
              "    </tr>\n",
              "    <tr>\n",
              "      <td>japanese</td>\n",
              "      <td>79</td>\n",
              "      <td>0</td>\n",
              "    </tr>\n",
              "  </tbody>\n",
              "</table>\n",
              "</div>"
            ],
            "text/plain": [
              "col_0      0    1\n",
              "origin           \n",
              "american  99  146\n",
              "european  58   10\n",
              "japanese  79    0"
            ]
          },
          "execution_count": 95,
          "metadata": {},
          "output_type": "execute_result"
        }
      ],
      "source": [
        "#k-means\n",
        "import numpy as np\n",
        "from sklearn import cluster\n",
        "kmeans = cluster.KMeans(n_clusters=2, init='random');\n",
        "kmeans.fit(V_SansLabels);\n",
        "#Profiling\n",
        "print(kmeans.cluster_centers_) #[ mpg  displacement  horsepower  weight  acceleration ]\n",
        "#index triés des groupes\n",
        "idk = np.argsort(kmeans.labels_);\n",
        "#affichage des observations et leurs groupes\n",
        "print(pandas.DataFrame(V_SansLabels.index[idk],kmeans.labels_[idk]));\n",
        "kmeans.labels_\n",
        "#distances aux centres de classes des observations\n",
        "print(kmeans.transform(V_SansLabels));\n",
        "#correspondance avec les groupes réels\n",
        "pandas.crosstab(V_Labels,kmeans.labels_)"
      ]
    },
    {
      "cell_type": "markdown",
      "metadata": {
        "id": "qlHoO_6BPf3N"
      },
      "source": [
        "K-MEANS, à la différence de la CAH, ne fournit pas d’outils d’aide à la détection du nombre de classes. Nous devons les programmer sous Python ou utiliser des procédures proposées par des packages dédiés. Le schéma est souvent le même : on fait varier le nombre de groupes et on surveille l’évolution d’un indicateur de qualité de la solution c.-à-d. l’aptitude des individus à être plus proches de ses congénères du même groupe que des individus des autres groupes. Dans ce qui suit, on calcule la métrique «silhouette » pour différents nombres de groupes issus de la méthode des centres mobiles."
      ]
    },
    {
      "cell_type": "code",
      "execution_count": null,
      "metadata": {
        "colab": {
          "base_uri": "https://localhost:8080/",
          "height": 330
        },
        "id": "8IBkbYlwPf3N",
        "outputId": "b8818a25-bb5d-459f-8110-d69ea6061f90"
      },
      "outputs": [
        {
          "name": "stdout",
          "output_type": "stream",
          "text": [
            "[0.63670095 0.58526049 0.57873747 0.55506504 0.52665709 0.51728108\n",
            " 0.52227783 0.50868581 0.50868634]\n"
          ]
        },
        {
          "data": {
            "image/png": "[encoded data removed]",
            "text/plain": [
              "<Figure size 432x288 with 1 Axes>"
            ]
          },
          "metadata": {
            "needs_background": "light"
          },
          "output_type": "display_data"
        }
      ],
      "source": [
        "#librairie pour évaluation des partitions\n",
        "from sklearn import metrics\n",
        "\n",
        "#utilisation de la métrique \"silhouette\"\n",
        "#faire varier le nombre de clusters de 2 à 10\n",
        "res = np.arange(9,dtype=\"double\")\n",
        "for k in np.arange(9):\n",
        "  km = cluster.KMeans(n_clusters=k+2)\n",
        "  km.fit(V_SansLabels)\n",
        "  res[k] = metrics.silhouette_score(V_SansLabels,km.labels_)\n",
        "print(res)\n",
        "#graphique\n",
        "import matplotlib.pyplot as plt\n",
        "plt.title(\"Silhouette\")\n",
        "plt.xlabel(\"# of clusters\")\n",
        "plt.plot(np.arange(2,11,1),res)\n",
        "plt.show()"
      ]
    },
    {
      "cell_type": "markdown",
      "metadata": {
        "id": "fLFXXYu0Pf3O"
      },
      "source": [
        "Classification Hiérarchique Ascendante (CAH)"
      ]
    },
    {
      "cell_type": "code",
      "execution_count": null,
      "metadata": {
        "id": "GbVEnCyCPf3O"
      },
      "outputs": [],
      "source": [
        "#librairies pour la CAH\n",
        "from matplotlib import pyplot as plt\n",
        "from scipy.cluster.hierarchy import dendrogram, linkage,fcluster"
      ]
    },
    {
      "cell_type": "code",
      "execution_count": null,
      "metadata": {
        "id": "LDczXT93Pf3O"
      },
      "outputs": [],
      "source": [
        "#générer la matrice des distances\n",
        "Z = linkage(V_SansLabels,method='ward',metric='euclidean')"
      ]
    },
    {
      "cell_type": "code",
      "execution_count": null,
      "metadata": {
        "colab": {
          "base_uri": "https://localhost:8080/",
          "height": 281
        },
        "id": "85tGQ62VPf3O",
        "outputId": "6673b1cb-1311-4056-f286-041256611a35"
      },
      "outputs": [
        {
          "data": {
            "image/png": "[encoded data removed]",
            "text/plain": [
              "<Figure size 432x288 with 1 Axes>"
            ]
          },
          "metadata": {
            "needs_background": "light"
          },
          "output_type": "display_data"
        }
      ],
      "source": [
        "#affichage du dendrogramme\n",
        "plt.title(\"CHA\")\n",
        "dendrogram(Z,labels=V_SansLabels.index,orientation='left',color_threshold=0)\n",
        "plt.show()"
      ]
    },
    {
      "cell_type": "code",
      "execution_count": null,
      "metadata": {
        "colab": {
          "base_uri": "https://localhost:8080/",
          "height": 721
        },
        "id": "gyrUUL7CPf3O",
        "outputId": "d87b1672-4c5c-4b97-e916-50417d8c970d"
      },
      "outputs": [
        {
          "data": {
            "image/png": "[encoded data removed]",
            "text/plain": [
              "<Figure size 432x288 with 1 Axes>"
            ]
          },
          "metadata": {
            "needs_background": "light"
          },
          "output_type": "display_data"
        },
        {
          "name": "stdout",
          "output_type": "stream",
          "text": [
            "[2 2 2 2 2 2 2 2 2 2 2 2 2 2 2 2 2 2 2 2 2 2 2 2 2 2 2 2 2 2 2 2 2 2 2 2 2\n",
            " 2 2 2 2 2 2 2 2 2 2 2 2 2 2 2 2 2 2 2 2 2 2 2 2 2 2 2 2 2 2 2 2 2 2 2 2 2\n",
            " 2 2 2 2 2 2 2 2 2 2 2 2 2 2 2 2 2 2 2 2 2 2 2 2 2 2 2 2 2 2 2 2 2 2 2 2 2\n",
            " 2 2 2 2 2 2 2 2 2 2 2 2 2 2 2 2 2 2 2 2 2 2 2 2 2 2 2 2 2 2 2 2 2 2 2 2 2\n",
            " 2 2 2 2 2 2 2 2 2 2 2 2 2 2 2 2 2 2 2 2 2 2 2 2 2 2 2 2 2 2 2 2 2 2 2 2 2\n",
            " 2 2 2 2 2 2 2 2 2 2 2 2 2 2 2 2 2 2 2 2 2 2 2 2 2 2 2 2 2 2 2 2 2 2 2 2 2\n",
            " 2 2 2 2 2 2 2 2 2 2 2 2 2 2 2 2 2 2 2 2 2 2 2 2 2 2 2 2 2 2 2 2 2 2 2 2 2\n",
            " 2 1 1 1 1 1 1 1 1 1 1 1 1 1 1 1 1 1 1 1 1 1 1 1 1 1 1 1 1 1 1 1 1 1 1 1 1\n",
            " 1 1 1 1 1 1 1 1 1 1 1 1 1 1 1 1 1 1 1 1 1 1 1 1 1 1 1 1 1 1 1 1 1 1 1 1 1\n",
            " 1 1 1 1 1 1 1 1 1 1 1 1 1 1 1 1 1 1 1 1 1 1 1 1 1 1 1 1 1 1 1 1 1 1 1 1 1\n",
            " 1 1 1 1 1 1 1 1 1 1 1 1 1 1 1 1 1 1 1 1 1 1]\n",
            "    Numero\n",
            "1      392\n",
            "1      295\n",
            "1      296\n",
            "1      297\n",
            "1      298\n",
            "..     ...\n",
            "2      126\n",
            "2      125\n",
            "2      124\n",
            "2      146\n",
            "2      196\n",
            "\n",
            "[392 rows x 1 columns]\n"
          ]
        }
      ],
      "source": [
        "# matérialisation des deux classes (hauteur t = 17500)\n",
        "plt.title('CAH avec matérialisation des 2 classes')\n",
        "dendrogram(Z,labels=V_SansLabels.index,orientation='left',color_threshold=17500)\n",
        "plt.show()\n",
        "\n",
        "#découpage à la hauteur t = 17500==> identifiants de 2 groupes obtenus\n",
        "groupes_cah = fcluster(Z,t=17500,criterion='distance')\n",
        "print(groupes_cah)\n",
        "\n",
        "#index triés des groupes\n",
        "import numpy as np\n",
        "idg = np.argsort(groupes_cah)\n",
        "\n",
        "#affichage des observations et leurs groupes\n",
        "print(pandas.DataFrame(V_SansLabels.index[idg],groupes_cah[idg]))"
      ]
    },
    {
      "cell_type": "code",
      "execution_count": null,
      "metadata": {
        "colab": {
          "base_uri": "https://localhost:8080/",
          "height": 166
        },
        "id": "D8CqdhFrPf3O",
        "outputId": "2a908b06-3fe9-47a2-b5e4-f7b61fd9d4f4"
      },
      "outputs": [
        {
          "data": {
            "text/html": [
              "<div>\n",
              "<style scoped>\n",
              "    .dataframe tbody tr th:only-of-type {\n",
              "        vertical-align: middle;\n",
              "    }\n",
              "\n",
              "    .dataframe tbody tr th {\n",
              "        vertical-align: top;\n",
              "    }\n",
              "\n",
              "    .dataframe thead th {\n",
              "        text-align: right;\n",
              "    }\n",
              "</style>\n",
              "<table border=\"1\" class=\"dataframe\">\n",
              "  <thead>\n",
              "    <tr style=\"text-align: right;\">\n",
              "      <th>col_0</th>\n",
              "      <th>1</th>\n",
              "      <th>2</th>\n",
              "    </tr>\n",
              "    <tr>\n",
              "      <th>origin</th>\n",
              "      <th></th>\n",
              "      <th></th>\n",
              "    </tr>\n",
              "  </thead>\n",
              "  <tbody>\n",
              "    <tr>\n",
              "      <td>american</td>\n",
              "      <td>129</td>\n",
              "      <td>116</td>\n",
              "    </tr>\n",
              "    <tr>\n",
              "      <td>european</td>\n",
              "      <td>3</td>\n",
              "      <td>65</td>\n",
              "    </tr>\n",
              "    <tr>\n",
              "      <td>japanese</td>\n",
              "      <td>0</td>\n",
              "      <td>79</td>\n",
              "    </tr>\n",
              "  </tbody>\n",
              "</table>\n",
              "</div>"
            ],
            "text/plain": [
              "col_0       1    2\n",
              "origin            \n",
              "american  129  116\n",
              "european    3   65\n",
              "japanese    0   79"
            ]
          },
          "execution_count": 80,
          "metadata": {},
          "output_type": "execute_result"
        }
      ],
      "source": [
        "#correspondance les vrais labels avec les groupes de la CAH\n",
        "pandas.crosstab(V_Labels,groupes_cah)"
      ]
    },
    {
      "cell_type": "code",
      "execution_count": null,
      "metadata": {
        "id": "ruSIf1XkFsxy"
      },
      "outputs": [],
      "source": []
    }
  ],
  "metadata": {
    "colab": {
      "provenance": []
    },
    "kernelspec": {
      "display_name": "Python 3",
      "language": "python",
      "name": "python3"
    },
    "language_info": {
      "codemirror_mode": {
        "name": "ipython",
        "version": 3
      },
      "file_extension": ".py",
      "mimetype": "text/x-python",
      "name": "python",
      "nbconvert_exporter": "python",
      "pygments_lexer": "ipython3",
      "version": "3.8.3"
    }
  },
  "nbformat": 4,
  "nbformat_minor": 0
}