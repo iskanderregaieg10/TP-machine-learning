{
  "cells": [
    {
      "cell_type": "markdown",
      "metadata": {
        "id": "Uy0wlg-AF6Vx"
      },
      "source": [
        "# KNN"
      ]
    },
    {
      "cell_type": "markdown",
      "metadata": {
        "id": "hPOYFvFNF6Vz"
      },
      "source": [
        "### 4DS1"
      ]
    },
    {
      "cell_type": "markdown",
      "metadata": {
        "id": "rX0KejKVF6V0"
      },
      "source": [
        "\n",
        "\n"
      ]
    },
    {
      "cell_type": "code",
      "execution_count": null,
      "metadata": {
        "id": "PLfVWFkhodRw"
      },
      "outputs": [],
      "source": [
        "import numpy as np\n",
        "import matplotlib.pyplot as plt\n",
        "import pandas as pd"
      ]
    },
    {
      "cell_type": "markdown",
      "metadata": {
        "id": "cGvRaU13odR0"
      },
      "source": [
        "__Atelier KNN__\n",
        "- L'objectif de ce TP est d'étudier le problème de clients qui ont tendance à churner du service de l'entreprise. Les données se présentent dans un fichier CSV contenant 13 \"features\" et une variable \"target\"(Exited).Autrement dit, nous aidons l'entreprise à trouver un modèle décisif qui prédit si le client va churner ou pas."
      ]
    },
    {
      "cell_type": "markdown",
      "metadata": {
        "id": "JN5CZKLrodR1"
      },
      "source": [
        "__I- Lecture et chargement des données__"
      ]
    },
    {
      "cell_type": "code",
      "execution_count": null,
      "metadata": {
        "id": "ySgAfuWDodR1"
      },
      "outputs": [],
      "source": [
        "data = pd.read_csv('churn_problem.csv')"
      ]
    },
    {
      "cell_type": "code",
      "execution_count": null,
      "metadata": {
        "colab": {
          "base_uri": "https://localhost:8080/",
          "height": 278
        },
        "id": "_O1vUc0nodR4",
        "outputId": "8bdbf626-6136-4ec2-8cdb-c313543b09ca"
      },
      "outputs": [
        {
          "data": {
            "text/html": [
              "<div>\n",
              "<style scoped>\n",
              "    .dataframe tbody tr th:only-of-type {\n",
              "        vertical-align: middle;\n",
              "    }\n",
              "\n",
              "    .dataframe tbody tr th {\n",
              "        vertical-align: top;\n",
              "    }\n",
              "\n",
              "    .dataframe thead th {\n",
              "        text-align: right;\n",
              "    }\n",
              "</style>\n",
              "<table border=\"1\" class=\"dataframe\">\n",
              "  <thead>\n",
              "    <tr style=\"text-align: right;\">\n",
              "      <th></th>\n",
              "      <th>RowNumber</th>\n",
              "      <th>CustomerId</th>\n",
              "      <th>Surname</th>\n",
              "      <th>CreditScore</th>\n",
              "      <th>Geography</th>\n",
              "      <th>Gender</th>\n",
              "      <th>Age</th>\n",
              "      <th>Tenure</th>\n",
              "      <th>Balance</th>\n",
              "      <th>NumOfProducts</th>\n",
              "      <th>HasCrCard</th>\n",
              "      <th>IsActiveMember</th>\n",
              "      <th>EstimatedSalary</th>\n",
              "      <th>Exited</th>\n",
              "    </tr>\n",
              "  </thead>\n",
              "  <tbody>\n",
              "    <tr>\n",
              "      <th>0</th>\n",
              "      <td>1</td>\n",
              "      <td>15634602</td>\n",
              "      <td>Hargrave</td>\n",
              "      <td>619</td>\n",
              "      <td>France</td>\n",
              "      <td>Female</td>\n",
              "      <td>42</td>\n",
              "      <td>2</td>\n",
              "      <td>0.00</td>\n",
              "      <td>1</td>\n",
              "      <td>1</td>\n",
              "      <td>1</td>\n",
              "      <td>101348.88</td>\n",
              "      <td>1</td>\n",
              "    </tr>\n",
              "    <tr>\n",
              "      <th>1</th>\n",
              "      <td>2</td>\n",
              "      <td>15647311</td>\n",
              "      <td>Hill</td>\n",
              "      <td>608</td>\n",
              "      <td>Spain</td>\n",
              "      <td>Female</td>\n",
              "      <td>41</td>\n",
              "      <td>1</td>\n",
              "      <td>83807.86</td>\n",
              "      <td>1</td>\n",
              "      <td>0</td>\n",
              "      <td>1</td>\n",
              "      <td>112542.58</td>\n",
              "      <td>0</td>\n",
              "    </tr>\n",
              "    <tr>\n",
              "      <th>2</th>\n",
              "      <td>3</td>\n",
              "      <td>15619304</td>\n",
              "      <td>Onio</td>\n",
              "      <td>502</td>\n",
              "      <td>France</td>\n",
              "      <td>Female</td>\n",
              "      <td>42</td>\n",
              "      <td>8</td>\n",
              "      <td>159660.80</td>\n",
              "      <td>3</td>\n",
              "      <td>1</td>\n",
              "      <td>0</td>\n",
              "      <td>113931.57</td>\n",
              "      <td>1</td>\n",
              "    </tr>\n",
              "    <tr>\n",
              "      <th>3</th>\n",
              "      <td>4</td>\n",
              "      <td>15701354</td>\n",
              "      <td>Boni</td>\n",
              "      <td>699</td>\n",
              "      <td>France</td>\n",
              "      <td>Female</td>\n",
              "      <td>39</td>\n",
              "      <td>1</td>\n",
              "      <td>0.00</td>\n",
              "      <td>2</td>\n",
              "      <td>0</td>\n",
              "      <td>0</td>\n",
              "      <td>93826.63</td>\n",
              "      <td>0</td>\n",
              "    </tr>\n",
              "    <tr>\n",
              "      <th>4</th>\n",
              "      <td>5</td>\n",
              "      <td>15737888</td>\n",
              "      <td>Mitchell</td>\n",
              "      <td>850</td>\n",
              "      <td>Spain</td>\n",
              "      <td>Female</td>\n",
              "      <td>43</td>\n",
              "      <td>2</td>\n",
              "      <td>125510.82</td>\n",
              "      <td>1</td>\n",
              "      <td>1</td>\n",
              "      <td>1</td>\n",
              "      <td>79084.10</td>\n",
              "      <td>0</td>\n",
              "    </tr>\n",
              "    <tr>\n",
              "      <th>5</th>\n",
              "      <td>6</td>\n",
              "      <td>15574012</td>\n",
              "      <td>Chu</td>\n",
              "      <td>645</td>\n",
              "      <td>Spain</td>\n",
              "      <td>Male</td>\n",
              "      <td>44</td>\n",
              "      <td>8</td>\n",
              "      <td>113755.78</td>\n",
              "      <td>2</td>\n",
              "      <td>1</td>\n",
              "      <td>0</td>\n",
              "      <td>149756.71</td>\n",
              "      <td>1</td>\n",
              "    </tr>\n",
              "    <tr>\n",
              "      <th>6</th>\n",
              "      <td>7</td>\n",
              "      <td>15592531</td>\n",
              "      <td>Bartlett</td>\n",
              "      <td>822</td>\n",
              "      <td>France</td>\n",
              "      <td>Male</td>\n",
              "      <td>50</td>\n",
              "      <td>7</td>\n",
              "      <td>0.00</td>\n",
              "      <td>2</td>\n",
              "      <td>1</td>\n",
              "      <td>1</td>\n",
              "      <td>10062.80</td>\n",
              "      <td>0</td>\n",
              "    </tr>\n",
              "  </tbody>\n",
              "</table>\n",
              "</div>"
            ],
            "text/plain": [
              "   RowNumber  CustomerId   Surname  CreditScore Geography  Gender  Age  \\\n",
              "0          1    15634602  Hargrave          619    France  Female   42   \n",
              "1          2    15647311      Hill          608     Spain  Female   41   \n",
              "2          3    15619304      Onio          502    France  Female   42   \n",
              "3          4    15701354      Boni          699    France  Female   39   \n",
              "4          5    15737888  Mitchell          850     Spain  Female   43   \n",
              "5          6    15574012       Chu          645     Spain    Male   44   \n",
              "6          7    15592531  Bartlett          822    France    Male   50   \n",
              "\n",
              "   Tenure    Balance  NumOfProducts  HasCrCard  IsActiveMember  \\\n",
              "0       2       0.00              1          1               1   \n",
              "1       1   83807.86              1          0               1   \n",
              "2       8  159660.80              3          1               0   \n",
              "3       1       0.00              2          0               0   \n",
              "4       2  125510.82              1          1               1   \n",
              "5       8  113755.78              2          1               0   \n",
              "6       7       0.00              2          1               1   \n",
              "\n",
              "   EstimatedSalary  Exited  \n",
              "0        101348.88       1  \n",
              "1        112542.58       0  \n",
              "2        113931.57       1  \n",
              "3         93826.63       0  \n",
              "4         79084.10       0  \n",
              "5        149756.71       1  \n",
              "6         10062.80       0  "
            ]
          },
          "execution_count": 3,
          "metadata": {},
          "output_type": "execute_result"
        }
      ],
      "source": [
        "data.head(7)"
      ]
    },
    {
      "cell_type": "markdown",
      "metadata": {
        "id": "QRjLL1pwodR7"
      },
      "source": [
        "__II- Préparation des données__"
      ]
    },
    {
      "cell_type": "code",
      "execution_count": null,
      "metadata": {
        "id": "kJlXw1dzodR8"
      },
      "outputs": [],
      "source": [
        "data=data.dropna()"
      ]
    },
    {
      "cell_type": "markdown",
      "metadata": {
        "id": "AlDvRhK5odR-"
      },
      "source": [
        "On remarque qu'il y a des colonnes qui sont qualitatives alors que le KNN demande des données quantitatives. Donc, il faut faire les transformations nécessaires."
      ]
    },
    {
      "cell_type": "markdown",
      "metadata": {
        "id": "lI1_bCP9vveD"
      },
      "source": [
        "#Encodage de la colonne \"Gender\""
      ]
    },
    {
      "cell_type": "markdown",
      "metadata": {
        "id": "-uEqdAmEodSH"
      },
      "source": [
        "Il y a des colonnes qui sont non significatives pour notre analyse. Nous devons les supprimer"
      ]
    },
    {
      "cell_type": "code",
      "execution_count": null,
      "metadata": {
        "id": "cJvjuU4Hv-HB",
        "outputId": "a6945496-5ac4-488a-9d8a-f3bca6499478"
      },
      "outputs": [
        {
          "name": "stdout",
          "output_type": "stream",
          "text": [
            "['Female' 'Male']\n"
          ]
        }
      ],
      "source": [
        "print(data['Gender'].unique())"
      ]
    },
    {
      "cell_type": "code",
      "execution_count": null,
      "metadata": {
        "id": "UDfLhTc-v-JI"
      },
      "outputs": [],
      "source": [
        "data = pd.read_csv('churn_problem.csv')\n",
        "#1- suppression des colonnes non significatives\n",
        "#data = data.drop([\"RowNumber\",\"CustomerId\",\"Surname\"], axis = 1)\n",
        "data = data.drop([\"RowNumber\",\"CustomerId\",\"Surname\",\"Geography\"], axis = 1)\n",
        "#2- encodage des variables\n",
        "data = pd.get_dummies(data, prefix_sep='_', drop_first=True)"
      ]
    },
    {
      "cell_type": "code",
      "execution_count": null,
      "metadata": {
        "id": "6HglNNMgv-M3",
        "outputId": "db8dbbdb-3bf4-4f27-8ad4-e077563511c5"
      },
      "outputs": [
        {
          "data": {
            "text/html": [
              "<div>\n",
              "<style scoped>\n",
              "    .dataframe tbody tr th:only-of-type {\n",
              "        vertical-align: middle;\n",
              "    }\n",
              "\n",
              "    .dataframe tbody tr th {\n",
              "        vertical-align: top;\n",
              "    }\n",
              "\n",
              "    .dataframe thead th {\n",
              "        text-align: right;\n",
              "    }\n",
              "</style>\n",
              "<table border=\"1\" class=\"dataframe\">\n",
              "  <thead>\n",
              "    <tr style=\"text-align: right;\">\n",
              "      <th></th>\n",
              "      <th>CreditScore</th>\n",
              "      <th>Age</th>\n",
              "      <th>Tenure</th>\n",
              "      <th>Balance</th>\n",
              "      <th>NumOfProducts</th>\n",
              "      <th>HasCrCard</th>\n",
              "      <th>IsActiveMember</th>\n",
              "      <th>EstimatedSalary</th>\n",
              "      <th>Exited</th>\n",
              "      <th>Gender_Male</th>\n",
              "    </tr>\n",
              "  </thead>\n",
              "  <tbody>\n",
              "    <tr>\n",
              "      <th>0</th>\n",
              "      <td>619</td>\n",
              "      <td>42</td>\n",
              "      <td>2</td>\n",
              "      <td>0.00</td>\n",
              "      <td>1</td>\n",
              "      <td>1</td>\n",
              "      <td>1</td>\n",
              "      <td>101348.88</td>\n",
              "      <td>1</td>\n",
              "      <td>0</td>\n",
              "    </tr>\n",
              "    <tr>\n",
              "      <th>1</th>\n",
              "      <td>608</td>\n",
              "      <td>41</td>\n",
              "      <td>1</td>\n",
              "      <td>83807.86</td>\n",
              "      <td>1</td>\n",
              "      <td>0</td>\n",
              "      <td>1</td>\n",
              "      <td>112542.58</td>\n",
              "      <td>0</td>\n",
              "      <td>0</td>\n",
              "    </tr>\n",
              "    <tr>\n",
              "      <th>2</th>\n",
              "      <td>502</td>\n",
              "      <td>42</td>\n",
              "      <td>8</td>\n",
              "      <td>159660.80</td>\n",
              "      <td>3</td>\n",
              "      <td>1</td>\n",
              "      <td>0</td>\n",
              "      <td>113931.57</td>\n",
              "      <td>1</td>\n",
              "      <td>0</td>\n",
              "    </tr>\n",
              "    <tr>\n",
              "      <th>3</th>\n",
              "      <td>699</td>\n",
              "      <td>39</td>\n",
              "      <td>1</td>\n",
              "      <td>0.00</td>\n",
              "      <td>2</td>\n",
              "      <td>0</td>\n",
              "      <td>0</td>\n",
              "      <td>93826.63</td>\n",
              "      <td>0</td>\n",
              "      <td>0</td>\n",
              "    </tr>\n",
              "    <tr>\n",
              "      <th>4</th>\n",
              "      <td>850</td>\n",
              "      <td>43</td>\n",
              "      <td>2</td>\n",
              "      <td>125510.82</td>\n",
              "      <td>1</td>\n",
              "      <td>1</td>\n",
              "      <td>1</td>\n",
              "      <td>79084.10</td>\n",
              "      <td>0</td>\n",
              "      <td>0</td>\n",
              "    </tr>\n",
              "  </tbody>\n",
              "</table>\n",
              "</div>"
            ],
            "text/plain": [
              "   CreditScore  Age  Tenure    Balance  NumOfProducts  HasCrCard  \\\n",
              "0          619   42       2       0.00              1          1   \n",
              "1          608   41       1   83807.86              1          0   \n",
              "2          502   42       8  159660.80              3          1   \n",
              "3          699   39       1       0.00              2          0   \n",
              "4          850   43       2  125510.82              1          1   \n",
              "\n",
              "   IsActiveMember  EstimatedSalary  Exited  Gender_Male  \n",
              "0               1        101348.88       1            0  \n",
              "1               1        112542.58       0            0  \n",
              "2               0        113931.57       1            0  \n",
              "3               0         93826.63       0            0  \n",
              "4               1         79084.10       0            0  "
            ]
          },
          "execution_count": 7,
          "metadata": {},
          "output_type": "execute_result"
        }
      ],
      "source": [
        "data.head(5)"
      ]
    },
    {
      "cell_type": "markdown",
      "metadata": {
        "id": "FT7EvIEsodSS"
      },
      "source": [
        "Une visualisation de la dispersion des observations par rapport aux classes présentes est bien intéressante."
      ]
    },
    {
      "cell_type": "code",
      "execution_count": null,
      "metadata": {
        "colab": {
          "base_uri": "https://localhost:8080/",
          "height": 248
        },
        "id": "rO5umfnuodSS",
        "outputId": "7c43a6eb-db81-49b5-f8e9-247dc082eb13"
      },
      "outputs": [
        {
          "data": {
            "image/png": "[encoded data removed]",
            "text/plain": [
              "<Figure size 432x288 with 1 Axes>"
            ]
          },
          "metadata": {},
          "output_type": "display_data"
        }
      ],
      "source": [
        "\n",
        "data['Exited'].value_counts().plot.pie()\n",
        "plt.show()"
      ]
    },
    {
      "cell_type": "code",
      "execution_count": null,
      "metadata": {
        "colab": {
          "base_uri": "https://localhost:8080/",
          "height": 265
        },
        "id": "4FrXX_gJodSV",
        "outputId": "f9336a79-ab0b-4753-8a5e-4a454c10785a"
      },
      "outputs": [
        {
          "data": {
            "image/png": "[encoded data removed]",
            "text/plain": [
              "<Figure size 432x288 with 1 Axes>"
            ]
          },
          "metadata": {
            "needs_background": "light"
          },
          "output_type": "display_data"
        }
      ],
      "source": [
        "boxplot = data.boxplot(column=[ 'Balance'])\n",
        "import matplotlib.pyplot as plt\n",
        "plt.show()"
      ]
    },
    {
      "cell_type": "code",
      "execution_count": null,
      "metadata": {
        "colab": {
          "base_uri": "https://localhost:8080/",
          "height": 265
        },
        "id": "gcBCP7b4odSX",
        "outputId": "fe5e6e2d-690e-4645-cb8a-f867b6669d33"
      },
      "outputs": [
        {
          "data": {
            "image/png": "[encoded data removed]",
            "text/plain": [
              "<Figure size 432x288 with 1 Axes>"
            ]
          },
          "metadata": {
            "needs_background": "light"
          },
          "output_type": "display_data"
        }
      ],
      "source": [
        "\n",
        "boxplot = data.boxplot(column=[ 'Age'])\n",
        "import matplotlib.pyplot as plt\n",
        "plt.show()"
      ]
    },
    {
      "cell_type": "markdown",
      "metadata": {
        "id": "y6N7TwVjodSZ"
      },
      "source": [
        "Nous avons détecté qu'il existe des valeurs aberrantes au niveau de quelques colonnes. Nous devons les éliminer"
      ]
    },
    {
      "cell_type": "code",
      "execution_count": null,
      "metadata": {
        "id": "NekZMnqvodSa"
      },
      "outputs": [],
      "source": [
        "Q1 = data['Age'].quantile(0.25)\n",
        "Q3 = data['Age'].quantile(0.75)\n",
        "IQR = Q3 - Q1    #IQR is interquartile range.\n",
        "\n",
        "filter1 = (data['Age'] >= Q1 - 1.5 * IQR) & (data['Age'] <= Q3 + 1.5 *IQR)\n",
        "data=data.loc[filter1]"
      ]
    },
    {
      "cell_type": "code",
      "execution_count": null,
      "metadata": {
        "colab": {
          "base_uri": "https://localhost:8080/"
        },
        "id": "UGNeLPVxodSc",
        "outputId": "54602536-0642-4c58-a0c1-75ba91e243f0"
      },
      "outputs": [
        {
          "data": {
            "text/plain": [
              "(9641, 10)"
            ]
          },
          "execution_count": 12,
          "metadata": {},
          "output_type": "execute_result"
        }
      ],
      "source": [
        "data.shape"
      ]
    },
    {
      "cell_type": "code",
      "execution_count": null,
      "metadata": {
        "colab": {
          "base_uri": "https://localhost:8080/",
          "height": 265
        },
        "id": "zbdYmXKmodSe",
        "outputId": "a14df2e8-27de-4578-d8e0-6cbe737d5b55"
      },
      "outputs": [
        {
          "data": {
            "image/png": "[encoded data removed]",
            "text/plain": [
              "<Figure size 432x288 with 1 Axes>"
            ]
          },
          "metadata": {
            "needs_background": "light"
          },
          "output_type": "display_data"
        }
      ],
      "source": [
        "boxplot = data.boxplot(column=[ 'CreditScore'])\n",
        "import matplotlib.pyplot as plt\n",
        "plt.show()"
      ]
    },
    {
      "cell_type": "code",
      "execution_count": null,
      "metadata": {
        "id": "zu5SK_NAodSg"
      },
      "outputs": [],
      "source": [
        "Q1 = data['CreditScore'].quantile(0.25)\n",
        "Q3 = data['CreditScore'].quantile(0.75)\n",
        "IQR = Q3 - Q1    #IQR is interquartile range.\n",
        "\n",
        "filter = (data['CreditScore'] >= Q1 - 1.5 * IQR) & (data['CreditScore'] <= Q3 + 1.5 *IQR)\n",
        "data=data.loc[filter]"
      ]
    },
    {
      "cell_type": "code",
      "execution_count": null,
      "metadata": {
        "colab": {
          "base_uri": "https://localhost:8080/"
        },
        "id": "IxeMobsiodSi",
        "outputId": "c0ad3b91-0c67-4b0e-8766-0ff95300ecbf"
      },
      "outputs": [
        {
          "data": {
            "text/plain": [
              "(9627, 10)"
            ]
          },
          "execution_count": 15,
          "metadata": {},
          "output_type": "execute_result"
        }
      ],
      "source": [
        "data.shape"
      ]
    },
    {
      "cell_type": "markdown",
      "metadata": {
        "id": "UKuePVBnodSl"
      },
      "source": [
        "__II-Répartition des données__\n",
        "\n",
        "Maintenant, nous allons répartir nos données en des données de training et des données de test."
      ]
    },
    {
      "cell_type": "code",
      "execution_count": null,
      "metadata": {
        "id": "D6PHi6N2wFUM"
      },
      "outputs": [],
      "source": [
        "#1- diviser le dataset en 2 : Features(X) + label(y)\n",
        "X= data.drop(['Exited'],axis=1)\n",
        "y= pd.factorize(data['Exited'])[0]\n",
        "#2- diviser le dataset en 2 : trainset + testset\n",
        "from sklearn.model_selection import train_test_split\n",
        "X_train, X_test, y_train, y_test = train_test_split(X, y, random_state=0)"
      ]
    },
    {
      "cell_type": "markdown",
      "metadata": {
        "id": "Q85HsNUyodSn"
      },
      "source": [
        "Centrage-Réduction des données"
      ]
    },
    {
      "cell_type": "code",
      "execution_count": null,
      "metadata": {
        "id": "3xp-_pPQwGnU"
      },
      "outputs": [],
      "source": [
        "from sklearn.preprocessing import MinMaxScaler\n",
        "scaler = MinMaxScaler()\n",
        "X_train = scaler.fit_transform(X_train)\n",
        "X_test = scaler.fit_transform(X_test)"
      ]
    },
    {
      "cell_type": "markdown",
      "metadata": {
        "id": "BhCZgIGuodSq"
      },
      "source": [
        "__IV- application de KNN__\n",
        ""
      ]
    },
    {
      "cell_type": "markdown",
      "metadata": {
        "id": "yZxWdpgWodSt"
      },
      "source": [
        "__Tuning manuel__"
      ]
    },
    {
      "cell_type": "markdown",
      "metadata": {
        "id": "wt-02kzrodSt"
      },
      "source": [
        "Faire varier le nombre de voisins k et la métrique de la distance"
      ]
    },
    {
      "cell_type": "code",
      "execution_count": null,
      "metadata": {
        "id": "rsXkeX8awdOw",
        "outputId": "6c503774-eb0b-4338-b7bd-fa2f676e484e"
      },
      "outputs": [
        {
          "data": {
            "text/plain": [
              "Text(0, 0.5, 'Erreur')"
            ]
          },
          "execution_count": 18,
          "metadata": {},
          "output_type": "execute_result"
        },
        {
          "data": {
            "image/png": "[encoded data removed]",
            "text/plain": [
              "<Figure size 864x432 with 1 Axes>"
            ]
          },
          "metadata": {
            "needs_background": "light"
          },
          "output_type": "display_data"
        }
      ],
      "source": [
        "from sklearn.neighbors import KNeighborsClassifier\n",
        "\n",
        "error = []# Calculer l'erreur pour k entre 1 et 40 : la distance Manhattan\n",
        "for i in range(1, 40):\n",
        "    knn = KNeighborsClassifier(i,metric='manhattan')\n",
        "    knn_model = knn.fit(X_train, y_train)\n",
        "    pred_i = knn_model.predict(X_test)\n",
        "    error.append(np.mean(pred_i != y_test))\n",
        "plt.figure(figsize=(12, 6))\n",
        "plt.plot(range(1, 40), error, color='red', linestyle='dashed', marker='o',\n",
        "         markerfacecolor='blue', markersize=10)\n",
        "plt.title('Taux Erreur pour les differentes valeurs de k')\n",
        "plt.xlabel('K ')\n",
        "plt.ylabel('Erreur')"
      ]
    },
    {
      "cell_type": "code",
      "execution_count": null,
      "metadata": {
        "id": "qAg2cKlowdRo",
        "outputId": "b2515dbd-afe8-4076-9107-fe53d055b031"
      },
      "outputs": [
        {
          "data": {
            "text/plain": [
              "array([1, 1, 1, ..., 1, 1, 0], dtype=int64)"
            ]
          },
          "execution_count": 19,
          "metadata": {},
          "output_type": "execute_result"
        }
      ],
      "source": [
        "#K = 10\n",
        "knn = KNeighborsClassifier(10)\n",
        "knn_model = knn.fit(X_train, y_train)\n",
        "y_pred_knn = knn_model.predict(X_test)\n",
        "y_pred_knn"
      ]
    },
    {
      "cell_type": "markdown",
      "metadata": {
        "id": "7AnidKa5odS1"
      },
      "source": [
        "__V- Evaluation__"
      ]
    },
    {
      "cell_type": "markdown",
      "metadata": {
        "id": "IhQgvWi4odS7"
      },
      "source": [
        "Indicateurs de performance: Taux de bonne de classification, Précision, Rappel et matrice de confusion"
      ]
    },
    {
      "cell_type": "markdown",
      "metadata": {
        "id": "gvMbd2TdodS7"
      },
      "source": [
        "*Utiliser grid search pour améliorer le résultat*"
      ]
    },
    {
      "cell_type": "code",
      "execution_count": null,
      "metadata": {
        "id": "nS8uYtwtwvl5",
        "scrolled": true,
        "outputId": "d3e2587e-eaae-49ba-8466-7e9c14f4664f"
      },
      "outputs": [
        {
          "name": "stdout",
          "output_type": "stream",
          "text": [
            "Accuracy of K-NN classifier on training set: 0.85\n",
            "Accuracy of K-NN classifier on test set: 0.83\n",
            "              precision    recall  f1-score   support\n",
            "\n",
            "           0       0.65      0.33      0.44       496\n",
            "           1       0.85      0.95      0.90      1911\n",
            "\n",
            "    accuracy                           0.83      2407\n",
            "   macro avg       0.75      0.64      0.67      2407\n",
            "weighted avg       0.81      0.83      0.80      2407\n",
            "\n",
            "matrice de confusion : \n",
            " [[ 164  332]\n",
            " [  89 1822]]\n"
          ]
        }
      ],
      "source": [
        "#1-accuracy = 0.83 (%testset)\n",
        "print('Accuracy of K-NN classifier on training set: {:.2f}'.format(knn.score(X_train, y_train)))\n",
        "print('Accuracy of K-NN classifier on test set: {:.2f}'.format(knn.score(X_test, y_test)))\n",
        "\n",
        "#2-Précision = 0.81\n",
        "#3-Recall = 0.83\n",
        "#4-f1-score = 0.80\n",
        "from sklearn.metrics import classification_report\n",
        "print(classification_report(y_test, y_pred_knn))\n",
        "\n",
        "#5-Matrice de confusion\n",
        "from sklearn.metrics import confusion_matrix\n",
        "print('matrice de confusion : \\n',confusion_matrix(y_test, y_pred_knn))\n"
      ]
    },
    {
      "cell_type": "code",
      "execution_count": null,
      "metadata": {
        "id": "UD6dOlHFF6V9",
        "outputId": "55708f42-ea4d-427e-bd41-02642e722b60"
      },
      "outputs": [
        {
          "name": "stdout",
          "output_type": "stream",
          "text": [
            "Best leaf_size: 1\n",
            "Best p: 1\n",
            "Best n_neighbors: 14\n"
          ]
        }
      ],
      "source": [
        "from sklearn.model_selection import GridSearchCV\n",
        "leaf_size = list(range(1,20))# Par défaut c'est 30\n",
        "n_neighbors = list(range(1,25))\n",
        "p=[1,2] #p = 1 manhattan_distance/p=2 euclidean_distance\n",
        "#Convert to dictionary\n",
        "hyperparameters = dict(leaf_size=leaf_size, n_neighbors=n_neighbors, p=p)\n",
        "#Create new KNN object\n",
        "knn_2 = KNeighborsClassifier()\n",
        "#Use GridSearch\n",
        "clf = GridSearchCV(knn_2, hyperparameters, cv=10, n_jobs=-1)\n",
        "#n_jobs: number of CPU'sfor execution.\n",
        "#cv: number of folds of the cross validation\n",
        "\n",
        "#Fit the model\n",
        "best_model = clf.fit(X_train, y_train)\n",
        "#Print The value of best Hyperparameters\n",
        "print('Best leaf_size:', best_model.best_estimator_.get_params()['leaf_size'])\n",
        "print('Best p:', best_model.best_estimator_.get_params()['p'])\n",
        "print('Best n_neighbors:', best_model.best_estimator_.get_params()['n_neighbors'])"
      ]
    },
    {
      "cell_type": "code",
      "execution_count": null,
      "metadata": {
        "id": "vfZ6ENoXwvx9",
        "outputId": "c1ae6e14-455e-49a6-8203-1bde42feaa60"
      },
      "outputs": [
        {
          "name": "stdout",
          "output_type": "stream",
          "text": [
            "Fitting 5 folds for each of 8 candidates, totalling 40 fits\n"
          ]
        },
        {
          "name": "stderr",
          "output_type": "stream",
          "text": [
            "[Parallel(n_jobs=-1)]: Using backend LokyBackend with 8 concurrent workers.\n",
            "[Parallel(n_jobs=-1)]: Done  40 out of  40 | elapsed:    3.0s finished\n"
          ]
        },
        {
          "data": {
            "text/plain": [
              "0.8317407561279602"
            ]
          },
          "execution_count": 21,
          "metadata": {},
          "output_type": "execute_result"
        }
      ],
      "source": [
        "#grille_search_cv\n",
        "from sklearn.model_selection import GridSearchCV\n",
        "\n",
        "grid_params = {\n",
        "    'n_neighbors': [7,8,9,10],#possibilité de k\n",
        "    'metric': ['euclidean','manhattan']#methode de calcul de distance\n",
        "}\n",
        "\n",
        "grid = GridSearchCV(KNeighborsClassifier(),\n",
        "                   grid_params,\n",
        "                   verbose=1,\n",
        "                   cv=5,\n",
        "                   n_jobs=-1)\n",
        "#grid.get_params().keys()\n",
        "\n",
        "grid_result = grid.fit(X_train,y_train)\n",
        "\n",
        "prediction=grid.predict(X_test)\n",
        "\n",
        "score=grid.score(X_test,y_test)\n",
        "score"
      ]
    },
    {
      "cell_type": "code",
      "execution_count": null,
      "metadata": {
        "id": "hhTGJoWmF6V9"
      },
      "outputs": [],
      "source": []
    },
    {
      "cell_type": "code",
      "execution_count": null,
      "metadata": {
        "id": "a-BoEtgfF6V9"
      },
      "outputs": [],
      "source": []
    }
  ],
  "metadata": {
    "colab": {
      "provenance": []
    },
    "kernelspec": {
      "display_name": "Python 3",
      "language": "python",
      "name": "python3"
    },
    "language_info": {
      "codemirror_mode": {
        "name": "ipython",
        "version": 3
      },
      "file_extension": ".py",
      "mimetype": "text/x-python",
      "name": "python",
      "nbconvert_exporter": "python",
      "pygments_lexer": "ipython3",
      "version": "3.8.3"
    }
  },
  "nbformat": 4,
  "nbformat_minor": 0
}